{
 "cells": [
  {
   "cell_type": "markdown",
   "id": "light-hierarchy",
   "metadata": {},
   "source": [
    "# Five Themes from the [`Advent of Code 2020`](https://adventofcode.com/2020) 🎄\n",
    "\n",
    "***Eugene Ha***\n",
    "<br>\n",
    "([License](#license))"
   ]
  },
  {
   "cell_type": "markdown",
   "id": "awful-buddy",
   "metadata": {},
   "source": [
    "This is a commentary on nine days from the [`Advent of Code 2020`](https://adventofcode.com/2020), categorized by theme.\n",
    "\n",
    "  * [Theme 1](#theme1). Counting with linear algebra (Day [7](#day7))\n",
    "  * [Theme 2](#theme2). Array methods for cellular automata (Days [11](#day11) and [17](#day17)) \n",
    "  * [Theme 3](#theme3). Geometry with complex numbers (Days [12](#day12) and [24](#day24))\n",
    "  * [Theme 4](#theme4). Poor man’s interpreter (Days [14](#day14) and [18](#day18))\n",
    "  * [Theme 5](#theme5). Resolving ambiguous relations with matrices (Days [16](#day16) and [21](#day21))\n",
    "  \n",
    "Solutions to the remaining sixteen days can be found in the [solutions folder](https://github.com/egnha/AoC-2020/tree/main/solutions). They are comparatively routine (with the exception of [Day 20](https://github.com/egnha/AoC-2020/blob/main/solutions/20.ipynb), which entails rather careful bookkeeping). I’ve omitted them here because five is an auspicious number, and frankly, I lacked the imagination or inspiration (not to mention the energy) to say anything noteworthy about them.\n",
    "\n",
    "All solutions are in Python, with liberal use of [NumPy](https://numpy.org) and [array-oriented methods](https://en.wikipedia.org/wiki/Array_programming). I favour a functional style, but write procedural or imperative code when that makes more sense. There is scarcely any object orientation, except as a means of overriding ordinary Python semantics ([Theme 4](#theme4)).\n",
    "\n",
    "Hearty thanks to [Eric Wastl](http://www.was.tl) for creating such a fun and educational diversion!"
   ]
  },
  {
   "cell_type": "markdown",
   "id": "controversial-radius",
   "metadata": {},
   "source": [
    "#### Dependencies\n",
    "\n",
    "[Python 3.8](https://docs.python.org/3.8/) (or higher) and [NumPy](https://numpy.org) are required. [SciPy](https://www.scipy.org/scipylib/) and [Numba](https://numba.pydata.org) are each used once for speed-ups ([Day 7](#day7), resp. [Day 11](#day11))."
   ]
  },
  {
   "cell_type": "code",
   "execution_count": 1,
   "id": "current-speaker",
   "metadata": {},
   "outputs": [],
   "source": [
    "import numpy       as np\n",
    "import collections as co\n",
    "import itertools   as it\n",
    "import functools   as ft\n",
    "import operator    as op\n",
    "import re"
   ]
  },
  {
   "cell_type": "markdown",
   "id": "dramatic-failing",
   "metadata": {},
   "source": [
    "#### Type annotations\n",
    "\n",
    "Function-type annotations are used as just that — *annotations*. I’ve applied them in places where they might aid comprehension, but stopped short of verifying their consistency with a static type checker."
   ]
  },
  {
   "cell_type": "code",
   "execution_count": 2,
   "id": "formed-alcohol",
   "metadata": {},
   "outputs": [],
   "source": [
    "from typing import Callable, Iterator, List, Tuple, Dict, NewType\n",
    "\n",
    "Vector = NewType(\"Vector\", np.ndarray)  # implicitly 1D\n",
    "Matrix = NewType(\"Matrix\", np.ndarray)  # implicitly 2D"
   ]
  },
  {
   "cell_type": "markdown",
   "id": "recognized-default",
   "metadata": {},
   "source": [
    "<a id='theme1'></a>\n",
    "## Theme 1. Counting with linear algebra (Day 7)"
   ]
  },
  {
   "cell_type": "markdown",
   "id": "answering-nitrogen",
   "metadata": {},
   "source": [
    "<a id='day7'></a>\n",
    "### [Day 7](https://adventofcode.com/2020/day/7): *Handy Haversacks*"
   ]
  },
  {
   "cell_type": "markdown",
   "id": "pharmaceutical-heath",
   "metadata": {},
   "source": [
    "The key observation is that **bag-containment counts are linearly related.**\n",
    "\n",
    "For example, consider the containment rule `blue bags contain 4 green bags, 2 red bag, 5 yellow bags`. We can transcribe the corresponding condition for the containment *count* — the number of bags contained by a blue bag — as a *purely symbolic* equation:\n",
    "\n",
    "```\n",
    "N_blue = 4⋅(𝟙_green + N_green) + 2⋅(𝟙_red + N_red) + 5⋅(𝟙_yellow + N_yellow)\n",
    "```\n",
    "\n",
    "The symbolic summand `4⋅(𝟙_green + N_green)` accounts for 4 green bags plus 4 times the number of bags contained each green bag; likewise for the other summands. There are no linear relations among the symbols `𝟙_green`, `𝟙_red`, … (whatever they happen to “be”).\n",
    "\n",
    "All this suggests the following semantics: *The symbols `N_blue`, `N_green`, … are vectors in a vector space spanned by the basis `𝟙₀`, `𝟙₁`, …, `𝟙ᵣ` (of formal symbols), where `0`, `1`, …, `r` is an (arbitrary) enumeration of the variously coloured bags*.\n",
    "\n",
    "Let `C` be the square matrix whose entry `C[i, j]` is the number of times bag `i` contains bag `j`. Then the system of containment-count equations is the matrix equation\n",
    "\n",
    "```\n",
    "N = C + C⋅N\n",
    "```\n",
    "\n",
    "The problem is to determine the matrix `N`. The number of bags contained in bag `i` is then the **sum of the entries in the `i`-th row of `N`**.\n",
    "\n",
    "Now to the code. Standard manipulations determine the matrix `C` from the puzzle data."
   ]
  },
  {
   "cell_type": "code",
   "execution_count": 3,
   "id": "strong-illustration",
   "metadata": {},
   "outputs": [],
   "source": [
    "rule = re.compile(r\"(.*) bags contain (.*)\\.\")\n",
    "bags = re.compile(r\"(\\d+) (.*?) bag\")\n",
    "\n",
    "with open(\"data/07.txt\", \"r\") as f:\n",
    "    rules = rule.findall(f.read())\n",
    "    enum = {bag: i for i, (bag, _) in enumerate(rules)}\n",
    "    C = np.zeros((len(enum), len(enum)), dtype=int)\n",
    "    for bag, innerbags in rules:\n",
    "        for n, innerbag in bags.findall(innerbags):\n",
    "            C[enum[bag], enum[innerbag]] = int(n)"
   ]
  },
  {
   "cell_type": "markdown",
   "id": "female-lightning",
   "metadata": {},
   "source": [
    "Basic algebra yields the solution of the equation `N = C + C⋅N` as an (infinite) geometric series:\n",
    "\n",
    "```\n",
    "N = C + C² + C³ + …\n",
    "```\n",
    "\n",
    "This is in fact a *finite* sum if sufficiently high powers of `C` are zero (which is to say that `C` is “nilpotent”). Assuming this, the following function computes the series:"
   ]
  },
  {
   "cell_type": "code",
   "execution_count": 4,
   "id": "seven-steering",
   "metadata": {},
   "outputs": [],
   "source": [
    "from scipy.sparse import csr_matrix\n",
    "\n",
    "def geomseries(x: Matrix) -> Matrix:\n",
    "    \"\"\"Geometric series starting from x (presuming it's nilpotent and sparse).\"\"\"\n",
    "    x = csr_matrix(x)\n",
    "    pows = it.accumulate(it.repeat(x), op.matmul, initial=x)\n",
    "    return np.sum(list(it.takewhile(csr_matrix.count_nonzero, pows)), axis=0)"
   ]
  },
  {
   "cell_type": "markdown",
   "id": "alone-stuff",
   "metadata": {},
   "source": [
    "Our matrix `C` is indeed nilpotent (why?), so we can now solve **Part 2**. The number of bags inside a shiny gold bag is **`13264`**."
   ]
  },
  {
   "cell_type": "code",
   "execution_count": 5,
   "id": "systematic-access",
   "metadata": {},
   "outputs": [],
   "source": [
    "N = geomseries(C)\n",
    "shinygold = enum[\"shiny gold\"]\n",
    "\n",
    "assert 13264 == np.sum(N[shinygold])"
   ]
  },
  {
   "cell_type": "markdown",
   "id": "decent-season",
   "metadata": {},
   "source": [
    "**Part 1** concerns a *boolean predicate* — which bags contain at least one shiny gold bag? — for the *inverse* containment relationship. This amounts to transposing the array `C` and casting it to type `bool`. We find that the number of bags that can eventually contain at least one shiny gold bag is **`222`**."
   ]
  },
  {
   "cell_type": "code",
   "execution_count": 6,
   "id": "married-bracelet",
   "metadata": {},
   "outputs": [],
   "source": [
    "assert 222 == np.sum(geomseries(C.T.astype(bool))[shinygold])"
   ]
  },
  {
   "cell_type": "markdown",
   "id": "enhanced-playback",
   "metadata": {},
   "source": [
    "#### An elementary approach via recursion\n",
    "\n",
    "Here’s an elementary approach without matrix algebra or geometric series. Say we’re interested in bag `i`. As before, consider its bag-containment-count equation:\n",
    "\n",
    "```\n",
    "Nᵢ = Cᵢ₀⋅(N₀ + 𝟙₀) + Cᵢ₁⋅(N₁ + 𝟙₁) + … + Cᵢᵣ⋅(Nᵣ + 𝟙ᵣ)\n",
    "```\n",
    "\n",
    "Now substitute into this the corresponding equations for `N₀`, `N₁`, …, and continue making such substitutions until only a linear combination of the basis vectors `𝟙₀`, `𝟙₁`, …, remains:\n",
    "\n",
    "```\n",
    "Nᵢ = … = aᵢ₀⋅𝟙₀ + aᵢ₁⋅𝟙₁ + … + aᵢᵣ⋅𝟙ᵣ\n",
    "```\n",
    "\n",
    "Here’s a function that performs recursive substitution:"
   ]
  },
  {
   "cell_type": "code",
   "execution_count": 7,
   "id": "working-australia",
   "metadata": {},
   "outputs": [],
   "source": [
    "arithmetic = {np.dtype(bool): (op.or_, op.and_), # Part 1\n",
    "              np.dtype(int):  (op.add, op.mul)}  # Part 2\n",
    "\n",
    "def substitute(C: Matrix, i: int) -> Vector:\n",
    "    \"\"\"Recursively substitute bag-containment-count equations.\"\"\"\n",
    "    add, mul = arithmetic[C.dtype]\n",
    "    sum = lambda xs: np.sum(list(xs), axis=0, dtype=C.dtype)\n",
    "    def subst(N):\n",
    "        if (N == 0).all():\n",
    "            return N\n",
    "        return add(N, sum(mul(n, subst(c)) for n, c in zip(N, C) if n))\n",
    "    return subst(C[i])"
   ]
  },
  {
   "cell_type": "markdown",
   "id": "threaded-subject",
   "metadata": {},
   "source": [
    "Parts 1 and 2 now proceed as before."
   ]
  },
  {
   "cell_type": "code",
   "execution_count": 8,
   "id": "intimate-organization",
   "metadata": {},
   "outputs": [],
   "source": [
    "assert 222 == np.sum(substitute(C.T.astype(bool), shinygold))  # Part 1\n",
    "assert 13264 == np.sum(substitute(C, shinygold))               # Part 2"
   ]
  },
  {
   "cell_type": "markdown",
   "id": "simple-receptor",
   "metadata": {},
   "source": [
    "<a id='theme2'></a>\n",
    "## Theme 2. Array methods for cellular automata (Days 11 and 17)"
   ]
  },
  {
   "cell_type": "markdown",
   "id": "looking-kitchen",
   "metadata": {},
   "source": [
    "For Days 11 and 17, we adapt the array methods in [John M. Scholes](https://en.wikipedia.org/wiki/John_M._Scholes)’s astounding demo of the [Conway’s Game of Life in APL](https://youtu.be/a9xAKttWgP4)."
   ]
  },
  {
   "cell_type": "markdown",
   "id": "persistent-doctrine",
   "metadata": {},
   "source": [
    "<a id='day17'></a>\n",
    "### [Day 17](https://adventofcode.com/2020/day/17): *Conway Cubes*"
   ]
  },
  {
   "cell_type": "markdown",
   "id": "acoustic-establishment",
   "metadata": {},
   "source": [
    "Compose the following functions to **simulate** a 6-cycle boot process:\n",
    "\n",
    "```\n",
    "      nest        cycle         cycle      cycle\n",
    "cubes ----> CUBES -----> CUBES1 -----> … -----> CUBES6\n",
    "```\n",
    "\n",
    "Here `cubes` is the initial grid of cubes as a 2-dimensional boolean array (according to the predicate, “Is a cube active?”); `nest` takes an array and nests it in a higher-dimensional array, by repeated boxing; `cycle` is an application of a cycle of the boot process (a “tick” of a cellular automaton).\n",
    "\n",
    "The beauty of using arrays is that it enables you to **treat the entire collection of cubes as an atomic unit**. No delicate index fiddling is necessary to figure out how the cubes affect each other.\n",
    "\n",
    "To (repeatedly) box a NumPy array, apply the `ndarray.reshape()` method. For example, to box a 3-dimensional array `x` of shape `(p, q, r)` twice to get a 5-dimensional array, do `x.reshape(1, 1, p, q, r)`."
   ]
  },
  {
   "cell_type": "code",
   "execution_count": 9,
   "id": "protecting-package",
   "metadata": {},
   "outputs": [],
   "source": [
    "def nest(x: np.ndarray, dim: int) -> np.ndarray:\n",
    "    boxes = np.ones(dim - len(x.shape), dtype=int)\n",
    "    return x.reshape(*boxes, *x.shape)"
   ]
  },
  {
   "cell_type": "markdown",
   "id": "departmental-europe",
   "metadata": {},
   "source": [
    "Each **cycle** of the boot process is executed by computing the **density** of cubes — a count of active neighboring cubes, *including* the cube in question — and then activating or deactivating cubes according to the activation predicate, “Is the density 3, or is the density 4 and the cube is active?” This is essentially [Conway’s Game of Life](https://en.wikipedia.org/wiki/Conway's_Game_of_Life). To allow cube activation to propagate outward, we **extend** the (nested) array of cubes by appending a border of `False`’es in each dimension. Because extension intervenes each time a cycle or density is computed, it is more natural to think of it as a *functional* transformation (i.e., function decorator) rather than as an array transformation."
   ]
  },
  {
   "cell_type": "code",
   "execution_count": 10,
   "id": "australian-spring",
   "metadata": {},
   "outputs": [],
   "source": [
    "def boot(dim: int):\n",
    "    \"\"\"A boot cycle in dim dimensions.\"\"\"\n",
    "    views = list(it.product(shifts, repeat=dim))\n",
    "    @extend\n",
    "    def density(cubes: np.ndarray) -> np.ndarray:  # After John M. Scholes\n",
    "        return np.sum([cubes[v] for v in views], axis=0)\n",
    "    @extend\n",
    "    def cycle(cubes: np.ndarray) -> np.ndarray:\n",
    "        d = density(cubes)\n",
    "        return (d == 3) | ((d == 4) & cubes)\n",
    "    return cycle\n",
    "\n",
    "shifts = np.s_[:-2], np.s_[1:-1], np.s_[2:]\n",
    "\n",
    "def extend(f):\n",
    "    \"\"\"Extend an array by 0 before applying f.\"\"\"\n",
    "    return lambda x: f(np.pad(x, 1))"
   ]
  },
  {
   "cell_type": "markdown",
   "id": "bound-trustee",
   "metadata": {},
   "source": [
    "The **simulation** then proceeds by nesting the cubes in a higher-dimensional space, then cycling."
   ]
  },
  {
   "cell_type": "code",
   "execution_count": 11,
   "id": "restricted-ukraine",
   "metadata": {},
   "outputs": [],
   "source": [
    "def simulate(cubes: np.ndarray, cycles: int, dim: int) -> np.ndarray:\n",
    "    \"\"\"Simulate n cycles of the boot process in dimension dim.\"\"\"\n",
    "    cycle = boot(dim)\n",
    "    return ft.reduce(lambda c, _: cycle(c), range(cycles), nest(cubes, dim))"
   ]
  },
  {
   "cell_type": "markdown",
   "id": "phantom-yahoo",
   "metadata": {},
   "source": [
    "For **Part 1**, we find that the number of cubes left in the active state after the sixth cycle is **`426`**."
   ]
  },
  {
   "cell_type": "code",
   "execution_count": 12,
   "id": "similar-albania",
   "metadata": {},
   "outputs": [],
   "source": [
    "with open(\"data/17.txt\", \"r\") as f:\n",
    "    lines = [l.strip() for l in f.readlines()]\n",
    "    cubes = np.array(list(map(list, lines))) == \"#\"\n",
    "\n",
    "assert 426 == np.sum(simulate(cubes, cycles=6, dim=3))"
   ]
  },
  {
   "cell_type": "markdown",
   "id": "honey-baking",
   "metadata": {},
   "source": [
    "For **Part 2**, the ambient dimension is 4, and the numbers of cubes left in the active state after the sixth cycle is now **`1892`**."
   ]
  },
  {
   "cell_type": "code",
   "execution_count": 13,
   "id": "second-calcium",
   "metadata": {},
   "outputs": [],
   "source": [
    "assert 1892 == np.sum(simulate(cubes, cycles=6, dim=4))"
   ]
  },
  {
   "cell_type": "markdown",
   "id": "infectious-couple",
   "metadata": {},
   "source": [
    "<a id='day11'></a>\n",
    "### [Day 11](https://adventofcode.com/2020/day/11): *Seating System*"
   ]
  },
  {
   "cell_type": "markdown",
   "id": "standard-charles",
   "metadata": {},
   "source": [
    "If occupying a seat in Day 11 corresponds to activating a cube in Day 17, then Part 1 is identical to Day 17, with two minor differences:\n",
    "\n",
    "  1. the rule of seat occupation differs from the rule of cube activation;\n",
    "  2. reseating runs until it stabilizes, instead of running a fixed number of times."
   ]
  },
  {
   "cell_type": "code",
   "execution_count": 14,
   "id": "written-porter",
   "metadata": {},
   "outputs": [],
   "source": [
    "Predicate = NewType(\"Predicate\", Matrix)  # dtype: bool\n",
    "Count = NewType(\"Count\", Matrix)          # dtype: int\n",
    "Density = Callable[[Predicate], Count]\n",
    "\n",
    "def reseating(seats: Predicate, density: Density, threshold: int):\n",
    "    \"\"\"Reseat according to occupation density.\"\"\"\n",
    "    def reseat(occupied):\n",
    "        d = density(occupied)\n",
    "        return (seats & (d == 0)) | (occupied & (d <= threshold))\n",
    "    return reseat\n",
    "\n",
    "@extend  # cf. Day 17\n",
    "def neighbors(occupied: Predicate) -> Count:\n",
    "    \"\"\"Count the number of occupied neighboring seats.\"\"\"\n",
    "    return np.sum([occupied[s] for s in shifts2], axis=0)\n",
    "\n",
    "shifts2 = list(it.product(shifts, repeat=2))  # cf. Day 17\n",
    "\n",
    "def fixedpoint(f, x):\n",
    "    while ((fx := f(x)) != x).any():\n",
    "        x = fx\n",
    "    return fx"
   ]
  },
  {
   "cell_type": "markdown",
   "id": "similar-student",
   "metadata": {},
   "source": [
    "For **Part 1**, we find that **`2344`** seats are occupied once reseating stabilizes."
   ]
  },
  {
   "cell_type": "code",
   "execution_count": 15,
   "id": "unknown-treasury",
   "metadata": {},
   "outputs": [],
   "source": [
    "with open(\"data/11.txt\", \"r\") as f:\n",
    "    seatingplan = np.array([list(l.strip()) for l in f.readlines()])\n",
    "    seats = seatingplan == \"L\"\n",
    "\n",
    "reseat = reseating(seats, density=neighbors, threshold=4)\n",
    "\n",
    "assert 2344 == np.sum(fixedpoint(reseat, seats))"
   ]
  },
  {
   "cell_type": "markdown",
   "id": "composite-fashion",
   "metadata": {},
   "source": [
    "For **Part 2**, both the occupation density and its threshold increase. The threshold becomes 5 seats, and the occupation density now counts any occupied seat that is in direct line of sight. The latter is computed by a closure `lineofsight()`, which depends on the seating layout. An iterable `visibility` collects the functions that count the occupied seats in each of the eight lines of sight. Creating `visibility` is the bulk of the effort for Part 2."
   ]
  },
  {
   "cell_type": "code",
   "execution_count": 16,
   "id": "latter-replacement",
   "metadata": {},
   "outputs": [],
   "source": [
    "UNOCCUPIED = -np.inf\n",
    "\n",
    "def visible(seats: Predicate) -> Density:\n",
    "    \"\"\"Count occupied seats that are in direct line of sight.\"\"\"\n",
    "    def lineofsight(occupied: Predicate) -> Count:\n",
    "        occ = occupied.astype(float)\n",
    "        occ[seats & ~occupied] = UNOCCUPIED\n",
    "        return np.sum([vis(occ) & seats for vis in visibility], axis=0)\n",
    "    return lineofsight"
   ]
  },
  {
   "cell_type": "markdown",
   "id": "practical-onion",
   "metadata": {},
   "source": [
    "Here `UNOCCUPIED` is a sentinel value for unoccupied seats. The reason this is chosen to be minus infinity will be clear shortly."
   ]
  },
  {
   "cell_type": "markdown",
   "id": "indie-humanity",
   "metadata": {},
   "source": [
    "Here’s a 3-step method for determining the **occupied seats for which an occupied seat is visible above**:\n",
    "\n",
    "  1. Cast the boolean matrix of occupied seats to a floating-point matrix, `occ`; moreover, assign unoccupied seats the value `UNOCCUPIED`. (Thus `occ` entries are either `0`, `1`, or `UNOCCUPIED`.)\n",
    "  2. (**Main step**) Determine the points for which an occupied seat is visible above, `visibleabove(occ)`.\n",
    "  3. Among these points, restrict to the subset of seats, `visibleabove(occ) & seats`.\n",
    "\n",
    "  \n",
    "```\n",
    "    occ                visibleabove(occ)\n",
    "\n",
    ". L # . . .               . . . . . .                 . . . . . .\n",
    ". . # L # .               . . ^ . . .                 . . * . . .\n",
    ". . . . L L    look up    . . ^ . ^ .    _ & seats    . . . . * .\n",
    "# . . . . .   -------->   . . ^ . . .   ---------->   . . . . . .\n",
    ". . L # . .               ^ . ^ . . .                 . . . . . .\n",
    ". . . L L .               ^ . . ^ . .                 . . . * . .\n",
    "\n",
    "                      (^: # visible above)\n",
    "```\n",
    "\n",
    "Step 2 coincides with taking a **“rectified” cumulative sum** down the columns of `occ` — apply the **rectified linear unit** `max(0, x)` as the intermediate sums are accumulated. Because unoccupied seats have value `-∞`, they block the visibility of any occupied seats above them."
   ]
  },
  {
   "cell_type": "code",
   "execution_count": 17,
   "id": "domestic-breath",
   "metadata": {},
   "outputs": [],
   "source": [
    "import numba as nb\n",
    "\n",
    "Occ = NewType(\"Occ\", Matrix)  # dtype: float\n",
    "\n",
    "def visibleabove(occ: Occ) -> Predicate:\n",
    "    \"\"\"Is an occupied seat visible above?\"\"\"\n",
    "    occ = np.pad(occ[:-1], ((1, 0), (0, 0)))  # initial value 0\n",
    "    return reluadd.accumulate(occ).astype(bool)\n",
    "\n",
    "@nb.vectorize([nb.float64(nb.float64, nb.float64)], nopython=True)\n",
    "def reluadd(x, y):\n",
    "    return np.maximum(0, x + y)"
   ]
  },
  {
   "cell_type": "markdown",
   "id": "comparable-strap",
   "metadata": {},
   "source": [
    "[Numba](https://numba.pydata.org/) is used here to compile `reluadd()` to a so-called “ufunc,” in order to get the `reluadd.accumulate()` method for computing the rectified cumulative sum (with initial value `0`). The function `itertools.accumulate()` would also work, but the result would be verbose and considerably slower."
   ]
  },
  {
   "cell_type": "markdown",
   "id": "major-minority",
   "metadata": {},
   "source": [
    "Now change perspective to determine the occupied seats in the other directions. For non-diagonal lines of sight, this amounts to some mix of transposing and reversing (realized as functional transformations)."
   ]
  },
  {
   "cell_type": "code",
   "execution_count": 18,
   "id": "after-german",
   "metadata": {},
   "outputs": [],
   "source": [
    "def rev(f: Callable[[Matrix], Matrix]):\n",
    "    return lambda x: f(x[::-1])[::-1]\n",
    "\n",
    "def transpose(f: Callable[[Matrix], Matrix]):\n",
    "    return lambda x: f(x.T).T\n",
    "\n",
    "visiblebelow = rev(visibleabove)\n",
    "visibleleft = transpose(visibleabove)\n",
    "visibleright = transpose(visiblebelow)"
   ]
  },
  {
   "cell_type": "markdown",
   "id": "judicial-retention",
   "metadata": {},
   "source": [
    "Handling diagonal lines of sight is more involved because standard array idioms only apply to rows and columns. A simple way to resolve this mismatch is to **shear** the matrix horizontally so that diagonals are tilted into columns. For example, anti-diagonals can be tilted vertically by shearing the bottom to the right:\n",
    "\n",
    "```\n",
    " (x)                 (diag)\n",
    " \n",
    "0 1 2             0 1 2 . . . .\n",
    "1 2 3    shear    . 1 2 3 . . .\n",
    "2 3 4   ------>   . . 2 3 4 . .\n",
    "3 4 5             . . . 3 4 5 .\n",
    "4 5 6             . . . . 4 5 6\n",
    "```\n",
    "\n",
    "This picture translates to the following code:"
   ]
  },
  {
   "cell_type": "code",
   "execution_count": 19,
   "id": "front-headline",
   "metadata": {},
   "outputs": [],
   "source": [
    "import numpy.ma as ma\n",
    "\n",
    "def shear(x: Matrix, void=UNOCCUPIED) -> ma.MaskedArray:\n",
    "    \"\"\"Shear the bottom of a matrix to the right.\"\"\"\n",
    "    m, n = x.shape\n",
    "    i, j = np.indices((m, n))\n",
    "    j = j + np.arange(m)[:, np.newaxis]\n",
    "    diag = np.full((m, m + n - 1), void)\n",
    "    mask = np.ones(diag.shape, dtype=bool)\n",
    "    diag[i, j] = x\n",
    "    mask[i, j] = False\n",
    "    return ma.array(diag, mask=mask)"
   ]
  },
  {
   "cell_type": "markdown",
   "id": "third-willow",
   "metadata": {},
   "source": [
    "(Packaging the result of `shear()` as a masked array is a mere technical convenience. It enables array operations to treat the data and its mask as a unit.)"
   ]
  },
  {
   "cell_type": "markdown",
   "id": "robust-initial",
   "metadata": {},
   "source": [
    "With shearing as intermediary, methods for determining occupied seats in *vertical* lines of sight can be used to determine occupied seats in *diagonal* lines of sight."
   ]
  },
  {
   "cell_type": "code",
   "execution_count": 20,
   "id": "proud-server",
   "metadata": {},
   "outputs": [],
   "source": [
    "def visiblealong(shear: Callable[[Matrix], ma.MaskedArray]):\n",
    "    def visibility(vis: Callable[[Occ], Predicate]):\n",
    "        \"\"\"Is a point visible from below an occupied seat on axis?\"\"\"\n",
    "        def visible(occ: Occ) -> Predicate:\n",
    "            d = shear(occ)\n",
    "            return vis(d.data)[~d.mask].reshape(occ.shape)\n",
    "        return visible\n",
    "    return visibility\n",
    "\n",
    "diagonally = visiblealong(rev(shear))\n",
    "antidiagonally = visiblealong(shear)"
   ]
  },
  {
   "cell_type": "markdown",
   "id": "diagnostic-organic",
   "metadata": {},
   "source": [
    "Lastly, we must regard occupied seats as being visible to themselves. (Alternatively, take this into account by modifying the occupation rule in `reseating()`.)"
   ]
  },
  {
   "cell_type": "code",
   "execution_count": 21,
   "id": "breathing-catalyst",
   "metadata": {},
   "outputs": [],
   "source": [
    "def visibleitself(occ: Occ) -> Predicate:\n",
    "    return occ == 1  # occupied seat is visible to itself"
   ]
  },
  {
   "cell_type": "markdown",
   "id": "democratic-article",
   "metadata": {},
   "source": [
    "By collecting all the lines of sight, we now get the iterable `visibility`."
   ]
  },
  {
   "cell_type": "code",
   "execution_count": 22,
   "id": "photographic-anderson",
   "metadata": {},
   "outputs": [],
   "source": [
    "visibility = [visibleitself,\n",
    "              visibleabove,\n",
    "              visiblebelow,\n",
    "              visibleleft,\n",
    "              visibleright,\n",
    "              diagonally(visibleabove),\n",
    "              diagonally(visiblebelow),\n",
    "              antidiagonally(visiblebelow),\n",
    "              antidiagonally(visibleabove)]"
   ]
  },
  {
   "cell_type": "markdown",
   "id": "aggressive-monitor",
   "metadata": {},
   "source": [
    "For **Part 2**, we find that **`2076`** seats are occupied once reseating according line-of-sight visibility stabilizes."
   ]
  },
  {
   "cell_type": "code",
   "execution_count": 23,
   "id": "covered-sculpture",
   "metadata": {},
   "outputs": [],
   "source": [
    "reseat2 = reseating(seats, density=visible(seats), threshold=5)\n",
    "\n",
    "assert 2076 == np.sum(fixedpoint(reseat2, seats))"
   ]
  },
  {
   "cell_type": "markdown",
   "id": "smart-intent",
   "metadata": {},
   "source": [
    "<a id='theme3'></a>\n",
    "## Theme 3. Geometry with complex numbers (Days 12 and 24)"
   ]
  },
  {
   "cell_type": "markdown",
   "id": "common-ukraine",
   "metadata": {},
   "source": [
    "The key idea for days 12 and 24 is a lesson from high-school math: **identify points in a plane with complex numbers to convert geometry to arithmetic**. Translation of points corresponds to addition. Rotation corresponds to multiplication by a complex number of absolute value 1."
   ]
  },
  {
   "cell_type": "markdown",
   "id": "tracked-amber",
   "metadata": {},
   "source": [
    "<a id='day12'></a>\n",
    "### [Day 12](https://adventofcode.com/2020/day/12): *Rain Risk*"
   ]
  },
  {
   "cell_type": "markdown",
   "id": "breeding-walter",
   "metadata": {},
   "source": [
    "Regard the ship’s position and direction as a pair of complex numbers, `pd = (p, d)`. Then turns and forward movement are linear transformations of the 2-vector `pd`. But movement in a compass direction is a translation by a constant, and is therefore a *non*-linear transformation of `pd`.\n",
    "\n",
    "There’s a trick for treating linear transformations and translations on an equal footing, familiar from computer graphics and group-representation theory: **represent the 2-vector `(p, d)` as a 3-vector `(p, d, 1)`**\n",
    ". Then both linear transformations and translations of *embedded* 2-vectors are performed by linear transformations of the ambient 3-dimensional space. Specifically, moving in a compass direction `x`, moving forward by `y`,  turning by `d` degrees are each performed by multiplying the (row) vector `(p, d, 1)` on the *right* by one of the following matrices:\n",
    "\n",
    "```\n",
    "Move     Forward    Turn\n",
    "\n",
    "1 0 0     1 0 0     1 0 0\n",
    "0 1 0     y 1 0     0 t 0  (t = exp(√-1⋅π⋅d/180))\n",
    "x 0 1     0 0 1     0 0 1\n",
    "```\n",
    "\n",
    "To generate navigation matrices, we can use a closure; the choice of `move` (a matrix-valued function) distinguishes Part 1 from Part 2."
   ]
  },
  {
   "cell_type": "code",
   "execution_count": 24,
   "id": "emotional-imagination",
   "metadata": {},
   "outputs": [],
   "source": [
    "Move = Callable[[complex], Matrix]\n",
    "\n",
    "def navigation(move: Move) -> Callable[[str, int], Matrix]:\n",
    "    \"\"\"Generate navigation matrices.\"\"\"\n",
    "    nav = dict(F=forward,\n",
    "               L=lambda v: turn(L**(v//90)),\n",
    "               R=lambda v: turn(R**(v//90)),\n",
    "               N=lambda v: move(N*v),\n",
    "               S=lambda v: move(S*v),\n",
    "               E=lambda v: move(E*v),\n",
    "               W=lambda v: move(W*v))\n",
    "    return lambda action, value: nav[action](value)\n",
    "\n",
    "E, N, W, S = +1, +1J, -1, -1J\n",
    "L, R = +1J, -1J\n",
    "\n",
    "def move(x: complex):\n",
    "    return np.array([[1, 0, 0], [0, 1, 0], [x, 0, 1]])\n",
    "\n",
    "def forward(y: int):\n",
    "    return np.array([[1, 0, 0], [y, 1, 0], [0, 0, 1]])\n",
    "\n",
    "def turn(t: complex):\n",
    "    return np.diag([1, t, 1])"
   ]
  },
  {
   "cell_type": "markdown",
   "id": "conventional-project",
   "metadata": {},
   "source": [
    "To navigate the ship to a new position, start from the initial `(position, direction, 1)` 3-vector, and successively right-multiply by matrices corresponding to the navigation instructions (the puzzle input). Doing repeated vector-matrix multiplications is more efficient that doing a big matrix multiplication upfront."
   ]
  },
  {
   "cell_type": "code",
   "execution_count": 25,
   "id": "smooth-albuquerque",
   "metadata": {},
   "outputs": [],
   "source": [
    "def navigator(instructions: List[Tuple[str, int]]):\n",
    "    def navigate(move: Move, facing: complex) -> complex:\n",
    "        \"\"\"Navigate the ship to a new position.\"\"\"\n",
    "        nav = navigation(move)\n",
    "        start = (0, facing, 1)\n",
    "        end, *_ = ft.reduce(op.matmul, it.starmap(nav, instructions), start)\n",
    "        return end\n",
    "    return navigate\n",
    "\n",
    "with open(\"data/12.txt\", \"r\") as f:\n",
    "    instructions = [(inst[0], int(inst[1:])) for inst in f.readlines()]\n",
    "    navigate = navigator(instructions)"
   ]
  },
  {
   "cell_type": "markdown",
   "id": "classical-madonna",
   "metadata": {},
   "source": [
    "Now we can dispatch **Part 1**. After navigating the ship, which is initially facing east, the Manhattan distance to the starting position is **`1457`**."
   ]
  },
  {
   "cell_type": "code",
   "execution_count": 26,
   "id": "iraqi-vatican",
   "metadata": {},
   "outputs": [],
   "source": [
    "def manhattan(z: complex):\n",
    "    return abs(z.real) + abs(z.imag)\n",
    "\n",
    "assert 1457 == manhattan(navigate(move, facing=E))"
   ]
  },
  {
   "cell_type": "markdown",
   "id": "contemporary-producer",
   "metadata": {},
   "source": [
    "For **Part 2**, the effect of the waypoint is to flip the roles of position and direction when moving in a compass direction, which amounts to flipping the function `move()`. The Manhattan distance to the starting position is now **`106860`**, when the ship’s initial direction qua “waypoint” is 10 units east and 1 unit north."
   ]
  },
  {
   "cell_type": "code",
   "execution_count": 27,
   "id": "polished-sweet",
   "metadata": {},
   "outputs": [],
   "source": [
    "F = np.array([[0, 1, 0], [1, 0, 0], [0, 0, 1]])\n",
    "\n",
    "def flip(move: Move) -> Move:\n",
    "    return lambda x: F @ move(x) @ F\n",
    "\n",
    "assert 106860 == manhattan(navigate(flip(move), facing=10*E + N))"
   ]
  },
  {
   "cell_type": "markdown",
   "id": "precise-christmas",
   "metadata": {},
   "source": [
    "The transformation `flip()` elucidates the relationship between the two parts, though it’d be more economical to dispense with the factor `F`, by substituting `flip(move)` with an explicit matrix-function of `x`."
   ]
  },
  {
   "cell_type": "markdown",
   "id": "outer-globe",
   "metadata": {},
   "source": [
    "<a id='day24'></a>\n",
    "### [Day 24](https://adventofcode.com/2020/day/24): *Lobby Layout*"
   ]
  },
  {
   "cell_type": "markdown",
   "id": "spectacular-sterling",
   "metadata": {},
   "source": [
    "Imagine for a moment that the tiles are situated on a *regular* hexagonal grid in the complex numbers, centered at `0` (the reference tile). Then the **endpoint of a path in this grid**, starting from `0`, is a **sum of sixth roots of unity**, where a *sixth root of unity* is a complex number `z` such that `z⁶ = 1`. If `z` is the (primitive) sixth root of unity `exp(√-1⋅π/3)`, then the directions *e*, *ne*, *nw*, *w*, *sw*, *se* correspond to `1`, `z`, `z - 1`, `-1`, `-z`, `-z + 1`, respectively. Under this correspondence, the endpoint of the path *wwswenenw* is the complex number `z - 2`:\n",
    "\n",
    "```\n",
    " w      w      sw    e   ne   nw\n",
    "(-1) + (-1) + (-z) + 1 + z + (z - 1) = z - 2\n",
    "```\n",
    "\n",
    "In fact, whether the lattice is regular or skewed is irrelevant, because we only want to *tally* the times a grid point is reached by a path. To this end, only the *linear independence* of `1` and `z` over the real numbers matters. We might as well choose `z = √-1`. (From a planar perspective, the hexagonal grid becomes skewed.)"
   ]
  },
  {
   "cell_type": "code",
   "execution_count": 28,
   "id": "acute-awareness",
   "metadata": {},
   "outputs": [],
   "source": [
    "neighbors = dict(e=1+0J, ne=1J, nw=-1+1J, w=-1+0J, sw=-1J, se=1-1J)"
   ]
  },
  {
   "cell_type": "markdown",
   "id": "laden-beverage",
   "metadata": {},
   "source": [
    "A grid point (i.e., tile) is “blackened” (flipped to black) if the number paths reaching it is odd."
   ]
  },
  {
   "cell_type": "code",
   "execution_count": 29,
   "id": "accredited-future",
   "metadata": {},
   "outputs": [],
   "source": [
    "def blacken(paths: List[List[str]]) -> Vector:\n",
    "    visits = co.Counter(sum(map(neighbors.__getitem__, p)) for p in paths)\n",
    "    return np.array([t for t, v in visits.items() if v % 2], dtype=complex)"
   ]
  },
  {
   "cell_type": "markdown",
   "id": "graduate-pennsylvania",
   "metadata": {},
   "source": [
    "Now we can answer **Part 1**. After traversing all paths (flipping all tiles) the number of grid points that are blackened is **`351`**."
   ]
  },
  {
   "cell_type": "code",
   "execution_count": 30,
   "id": "solar-fountain",
   "metadata": {},
   "outputs": [],
   "source": [
    "with open(\"data/24.txt\", \"r\") as f:\n",
    "    paths = [re.findall(\"e|ne|nw|w|sw|se\", line.strip()) for line in f.readlines()]\n",
    "\n",
    "black = blacken(paths)\n",
    "\n",
    "assert 351 == len(black)"
   ]
  },
  {
   "cell_type": "markdown",
   "id": "digital-stick",
   "metadata": {},
   "source": [
    "For **Part 2**, the blackening (flipping) rule depends on neighboring tiles, rather than paths to a tile. But the structure of the computation itself is unchanged. We find that **`3869`** tiles are blackened after 100 days."
   ]
  },
  {
   "cell_type": "code",
   "execution_count": 31,
   "id": "motivated-antarctica",
   "metadata": {},
   "outputs": [],
   "source": [
    "shift = np.fromiter(neighbors.values(), dtype=complex).reshape(-1, 1)\n",
    "\n",
    "def flip(black: np.ndarray, _) -> Vector:\n",
    "    \"\"\"Flip to black according to the color of neighboring tiles.\"\"\"\n",
    "    nbhs = co.Counter((black + shift).flat)\n",
    "    return np.concatenate(([b for b, n in nbhs.items() if n == 2],\n",
    "                           [b for b in black if nbhs.get(b) == 1]))\n",
    "\n",
    "assert 3869 == len(ft.reduce(flip, range(100), black))"
   ]
  },
  {
   "cell_type": "markdown",
   "id": "anticipated-battery",
   "metadata": {},
   "source": [
    "<a id='theme4'></a>\n",
    "## Theme 4. Poor man’s interpreter (Days 14 and 18)"
   ]
  },
  {
   "cell_type": "markdown",
   "id": "accepting-offering",
   "metadata": {},
   "source": [
    "Days 14 and 18 amount to building a **poor man’s intepreter**: we stipulate semantics, Python does the parsing and evaluation."
   ]
  },
  {
   "cell_type": "markdown",
   "id": "personalized-produce",
   "metadata": {},
   "source": [
    "<a id='day14'></a>\n",
    "### [Day 14](https://adventofcode.com/2020/day/14): *Docking Data*"
   ]
  },
  {
   "cell_type": "markdown",
   "id": "greater-sympathy",
   "metadata": {},
   "source": [
    "Observe that the **puzzle input is basically Python code** — just run it.\n",
    "\n",
    "In other words, presuming `code` is the puzzle input as a (big) string, we want to do something like this to get the sum of memory values:\n",
    "\n",
    "```python\n",
    "exec(code)\n",
    "sum(mem)\n",
    "```\n",
    "\n",
    "The fact that the input is not 100% syntactically valid Python is a minor obstacle. For example, the right-hand side of a line like\n",
    "\n",
    "```\n",
    "mask = 01X11X10X10110110X111X11010X1X101010\n",
    "```\n",
    "\n",
    "is syntactically invalid. But we can fix that by treating it as a string.\n",
    "\n",
    "Thus one strategy for Day 14 is an **ad hoc tweak of the Python interpreter**, in two steps:\n",
    "\n",
    "  1. Do a light code transformation to get syntactically valid Python.\n",
    "  2. Reinterpret the assignment operator so that bitmasking occurs.\n",
    "\n",
    "The **first step** is performed by a simple “stringification” of mask values."
   ]
  },
  {
   "cell_type": "code",
   "execution_count": 32,
   "id": "basic-kruger",
   "metadata": {},
   "outputs": [],
   "source": [
    "with open(\"data/14.txt\", \"r\") as f:\n",
    "    code = re.sub(r\"mask = (.*)\\n\", r\"mem.mask = '\\1'\\n\", f.read())"
   ]
  },
  {
   "cell_type": "markdown",
   "id": "cubic-perth",
   "metadata": {},
   "source": [
    "The additional code transformation\n",
    "\n",
    "```\n",
    "mask = …  ⤳  mem.mask = …\n",
    "```\n",
    "\n",
    "enables the **second step**: reinterpreting mask assignment and memory value assignment so that bitmasking intervenes. Since we have lines like `mem.mask = …` and `mem[…] = …` in the code, it is natural to endow `mem` with these capabilities by making it an instance of an ad hoc class. One possibility for such a class is as follows:"
   ]
  },
  {
   "cell_type": "code",
   "execution_count": 33,
   "id": "constant-introduction",
   "metadata": {},
   "outputs": [],
   "source": [
    "class Memory(Dict[int, int]):\n",
    "    \"\"\"Memory as a dictionary of address-value pairs.\"\"\"\n",
    "    \n",
    "    @classmethod\n",
    "    def write(cls, registers, code: str):\n",
    "        \"\"\"Write to memory by running code.\"\"\"\n",
    "        cls._registers = registers\n",
    "        mem = cls()  # Must be named \"mem\"\n",
    "        exec(code)\n",
    "        return mem\n",
    "\n",
    "    def _registers(self, addr: int, val: int) -> Iterator[Tuple[int, int]]:\n",
    "        \"\"\"Generate address-value pairs to write.\"\"\"\n",
    "    \n",
    "    def _setmask(self, val: str):\n",
    "        self._mask = self._int(\"1\" if x == \"X\" else \"0\" for x in val)\n",
    "        self._places = [i for i, x in enumerate(reversed(val)) if x == \"X\"]\n",
    "        self._overwrite = self._int(\"0\" if x == \"X\" else x for x in val)\n",
    "\n",
    "    @staticmethod\n",
    "    def _int(x: str) -> int:\n",
    "        return int(\"\".join(x), 2)\n",
    "    \n",
    "    mask = property(fset=_setmask)\n",
    "\n",
    "    def __setitem__(self, addr: int, val: int):\n",
    "        \"\"\"Write values to memory.\"\"\"\n",
    "        for a, v in self._registers(addr, val):\n",
    "            super().__setitem__(a, v)\n",
    "        \n",
    "    def __iter__(self) -> Iterator[int]:\n",
    "        return iter(super().values())"
   ]
  },
  {
   "cell_type": "markdown",
   "id": "computational-worker",
   "metadata": {},
   "source": [
    "The method `Memory._registers()` is *dynamically* assigned by the constructor `Memory.write()`. For Part 1, it maskes memory values; for Part 2, it masks many memory addresses."
   ]
  },
  {
   "cell_type": "code",
   "execution_count": 34,
   "id": "honey-shareware",
   "metadata": {},
   "outputs": [],
   "source": [
    "def registers1(self, addr: int, val: int) -> Iterator[Tuple[int, int]]:\n",
    "    \"\"\"Apply bitmask to memory values.\"\"\"\n",
    "    yield addr, (val & self._mask) | self._overwrite\n",
    "\n",
    "def registers2(self, addr: int, val: int) -> Iterator[Tuple[int, int]]:\n",
    "    \"\"\"Decode memory addresses.\"\"\"\n",
    "    addr = (addr | self._overwrite) & (BITS36 ^ self._mask)\n",
    "    for bits in it.product((0, 1), repeat=len(self._places)):\n",
    "        yield addr | sum(map(op.lshift, bits, self._places)), val\n",
    "\n",
    "BITS36 = 2**36 - 1"
   ]
  },
  {
   "cell_type": "markdown",
   "id": "bridal-material",
   "metadata": {},
   "source": [
    "We can now solve both parts by **literal interpretation**. For **Part 1**, the sum of all values left in memory after the code runs is **`7817357407588`**."
   ]
  },
  {
   "cell_type": "code",
   "execution_count": 35,
   "id": "floral-assist",
   "metadata": {},
   "outputs": [],
   "source": [
    "assert 7817357407588 == sum(Memory.write(registers1, code))"
   ]
  },
  {
   "cell_type": "markdown",
   "id": "mobile-stack",
   "metadata": {},
   "source": [
    "For **Part 2**, the sum of all values left in memory after the code runs is **`4335927555692`**."
   ]
  },
  {
   "cell_type": "code",
   "execution_count": 36,
   "id": "reserved-aside",
   "metadata": {},
   "outputs": [],
   "source": [
    "assert 4335927555692 == sum(Memory.write(registers2, code))"
   ]
  },
  {
   "cell_type": "markdown",
   "id": "requested-employment",
   "metadata": {},
   "source": [
    "<a id='day18'></a>\n",
    "### [Day 18](https://adventofcode.com/2020/day/18): *Operation Order*"
   ]
  },
  {
   "cell_type": "markdown",
   "id": "current-clearance",
   "metadata": {},
   "source": [
    "The problem is to **reinterpret the syntax of operators** in an arithmetic expression. For each operator, this means independently settings its **precedence** and **meaning**. In Python, the precedence of an operator is fixed, but its meaning is changeable.\n",
    "\n",
    "We can therefore proceed in three steps:\n",
    "\n",
    "  1. Substitute each operator with a Python operator of the appropriate precedence.\n",
    "  2. For some ad hoc subclass of `int`, reinterpret each such operator.\n",
    "  3. Evaluate the resulting expression.\n",
    "\n",
    "The first two steps amount to taking a (newline-separated) *sequence* of arithmetic expressions like\n",
    "\n",
    "```\n",
    "(8 + 5) + 1 + (2 * 3 * 4)\n",
    "7 + 8 * (5 + (7 + 3 * 3))\n",
    "…\n",
    "```\n",
    "\n",
    "and combining them into a *single* expression (without newlines):\n",
    "\n",
    "```\n",
    "(Weird(8) / Weird(5)) / Weird(1) / (Weird(2) * Weird(3) * Weird(4)) |\n",
    "Weird(7) / Weird(8) * (Weird(5) / (Weird(7) / Weird(3) * Weird(3))) |\n",
    "…\n",
    "```\n",
    "\n",
    "Here `Weird` is some ad hoc subclass of `int` that implements addition via `/`, in order that addition and multiplication have equal precedence (as dictated by Part 1). Each newline, which implicitly executes addition, is substituted by an explicit `|` operator of relatively low precedence in Python. The resulting expression is huge, but still manageable for Python’s parser.\n",
    "\n",
    "All this leads directly to the following implementation of the class `Weird` and the “weirdification” of expressions:"
   ]
  },
  {
   "cell_type": "code",
   "execution_count": 37,
   "id": "concerned-dream",
   "metadata": {},
   "outputs": [],
   "source": [
    "class Weird(int):\n",
    "    \"\"\"Integers with weird arithmetic syntax.\"\"\"\n",
    "    \n",
    "    add = lambda self, other: Weird(super().__add__(other))\n",
    "    mul = lambda self, other: Weird(super().__mul__(other))\n",
    "    \n",
    "    __or__      = add  # `|`\n",
    "    __truediv__ = add  # `/`\n",
    "    __add__     = mul  # `+`\n",
    "    __mul__     = mul  # `*`\n",
    "\n",
    "def weird(exprs):\n",
    "    \"\"\"Make a bunch of arithmetic expressions weird.\"\"\"\n",
    "    wexprs = exprs.strip().replace(\"\\n\", \"|\").replace(\"+\", \"/\")\n",
    "    wexprs = re.sub(r\"(\\d+)\", r\"Weird(\\1)\", wexprs)\n",
    "    return wexprs"
   ]
  },
  {
   "cell_type": "markdown",
   "id": "constant-wireless",
   "metadata": {},
   "source": [
    "If `wexprs` is the puzzle input made weird, then the value of its interpretation is the answer to **Part 1**, namely **`5374004645253`**."
   ]
  },
  {
   "cell_type": "code",
   "execution_count": 38,
   "id": "suitable-creator",
   "metadata": {},
   "outputs": [],
   "source": [
    "with open(\"data/18.txt\", \"r\") as f:\n",
    "    wexprs = weird(f.read())\n",
    "\n",
    "assert 5374004645253 == eval(wexprs)"
   ]
  },
  {
   "cell_type": "markdown",
   "id": "fleet-allergy",
   "metadata": {},
   "source": [
    "When `*` is substituted everywhere by `+` (which then does multiplication at the precedence of *Python* addition), we get the answer to **Part 2**, namely **`88782789402798`**."
   ]
  },
  {
   "cell_type": "code",
   "execution_count": 39,
   "id": "prepared-waters",
   "metadata": {},
   "outputs": [],
   "source": [
    "assert 88782789402798 == eval(wexprs.replace(\"*\", \"+\"))"
   ]
  },
  {
   "cell_type": "markdown",
   "id": "tired-joining",
   "metadata": {},
   "source": [
    "<a id='theme5'></a>\n",
    "## Theme 5. Resolving ambiguous relations with matrices (Days 16 and 21)"
   ]
  },
  {
   "cell_type": "markdown",
   "id": "altered-botswana",
   "metadata": {},
   "source": [
    "Day 21 and Part 2 of Day 16 boil down to **resolving ambiguous relations**: from a given relation (subset) `R ⊆ A × B` between two finite sets `A` and `B`, **find a one-to-one function** `A → B` (presuming `B` has no fewer elements than `A`, of course).\n",
    "\n",
    "Upon identifying `A` and `B` with an enumeration of their elements, we can translate the resolution of ambiguity into a problem about the **incidence matrix** of `R`, which is the boolean matrix `p` whose entry `p[a, b]` is true if and only if `(a, b) ∈ R`. Resolving the ambiguity of `R` then amounts to finding an array `ch` (indexed by `A`) of *distinct* elements of `B` such that `p[a, ch[a]]` is true for every `a ∈ A`. Call an array with this property a **choice** for `p` (or `R`).\n",
    "\n",
    "For example, if `A` has 5 elements and `B` has 7 elements, then the incidence matrix of `R` is a 5×7 matrix `p`, and a choice for `p` is then a selection of 5 true entries of `p` in distinct rows and columns (indicated here by `*`):\n",
    "\n",
    "```\n",
    "0 0 1 0 0 0 0              0 0 * 0 0 0 0\n",
    "1 0 1 1 0 0 0    choice    1 0 1 * 0 0 0\n",
    "0 0 0 0 0 1 0   ------->   0 0 0 0 0 * 0\n",
    "1 0 1 1 1 0 1              * 0 1 1 1 0 1\n",
    "0 0 1 0 1 1 0              0 0 1 0 * 1 0\n",
    "```\n",
    "\n",
    "One procedure that attempts (but sometimes fails) to find a choice for `p` goes like this: find the row indices `a` for which the choice of a column index `ch[a]` is unambiguous, then excise those rows and columns from `p`, and recurse. A column index `b` is **unambiguous** when its column `p[:, b]` has a unique true value *among the rows that have a single true value*. If this procedure stops, then a choice for `p` has been found.\n",
    "\n",
    "The following function carries out this procedure:"
   ]
  },
  {
   "cell_type": "code",
   "execution_count": 40,
   "id": "antique-quest",
   "metadata": {},
   "outputs": [],
   "source": [
    "def choice(p: Matrix) -> Vector:\n",
    "    \"\"\"Find a choice for a boolean matrix.\"\"\"\n",
    "    ch, a = np.empty((len(p), 2), dtype=int), 0\n",
    "    indices = np.einsum(\"cab->abc\", np.indices(p.shape))\n",
    "    while len(p):\n",
    "        unamb, amb = unambiguous(p)\n",
    "        ch[a:(a := a + unamb.sum())] = indices[unamb]\n",
    "        p, indices = p[amb], indices[amb]\n",
    "    return ch[ch[:, 0].argsort(), 1]\n",
    "\n",
    "def unambiguous(p: Matrix) -> Tuple[Matrix, Tuple]:\n",
    "    \"\"\"Unambiguous choices for a boolean matrix.\"\"\"\n",
    "    a = p.sum(axis=1) == 1\n",
    "    b = p[a].sum(axis=0) == 1\n",
    "    unamb = np.zeros(p.shape, dtype=bool)\n",
    "    unamb[ab] = p[(ab := np.ix_(a, b))]\n",
    "    amb = np.ix_(~a | ~p[:, b].any(axis=1), ~b)\n",
    "    return unamb, amb  "
   ]
  },
  {
   "cell_type": "markdown",
   "id": "returning-perry",
   "metadata": {},
   "source": [
    "<a id='day16'></a>\n",
    "### [Day 16](https://adventofcode.com/2020/day/16): *Ticket Translation*"
   ]
  },
  {
   "cell_type": "markdown",
   "id": "photographic-underwear",
   "metadata": {},
   "source": [
    "Let’s first shape the puzzle data into arrays."
   ]
  },
  {
   "cell_type": "code",
   "execution_count": 41,
   "id": "incorporate-algorithm",
   "metadata": {},
   "outputs": [],
   "source": [
    "with open(\"data/16.txt\", \"r\") as f:\n",
    "    lines = [l.strip() for l in f.readlines()]\n",
    "    ranges = re.findall(r\"(\\d+)-(\\d+)\", \"\".join(lines[:20]))\n",
    "    lwr, upr = np.array(ranges, dtype=int).T.reshape(2, 20, 2)\n",
    "    myticket = np.array(lines[22].split(\",\"), dtype=int)\n",
    "    tickets = np.array([t.split(\",\") for t in lines[25:]], dtype=int)"
   ]
  },
  {
   "cell_type": "markdown",
   "id": "japanese-victorian",
   "metadata": {},
   "source": [
    "The rows of the interval-bound matrices `lwr`, `upr` are enumerated by the 20 ticket fields, while the rows of the ticket-number matrix `tickets` are enumerated by the tickets."
   ]
  },
  {
   "cell_type": "code",
   "execution_count": 42,
   "id": "animated-geneva",
   "metadata": {},
   "outputs": [
    {
     "name": "stdout",
     "output_type": "stream",
     "text": [
      "lwr.shape=(20, 2), upr.shape=(20, 2), tickets.shape=(237, 20)\n"
     ]
    }
   ],
   "source": [
    "print(f\"{lwr.shape=}, {upr.shape=}, {tickets.shape=}\")"
   ]
  },
  {
   "cell_type": "markdown",
   "id": "binary-drunk",
   "metadata": {},
   "source": [
    "For **Part 1**, we find that there are **`25788`** invalid ticket numbers, among all tickets."
   ]
  },
  {
   "cell_type": "code",
   "execution_count": 43,
   "id": "persistent-conservation",
   "metadata": {},
   "outputs": [],
   "source": [
    "nums = tickets.reshape(tickets.size, 1, 1)\n",
    "invalid = ((nums < lwr) | (upr < nums)).all(axis=(1, 2))\n",
    "\n",
    "assert 25788 == np.sum(nums[invalid])"
   ]
  },
  {
   "cell_type": "markdown",
   "id": "inappropriate-wages",
   "metadata": {},
   "source": [
    "Part 2 amounts to finding the **order** in which the ticket fields correspond to the columns of `tickets`, once invalid tickets are discarded. But this order is precisely the sorting order of a **choice** for the relation between ticket numbers and ticket fields where a ticket number stands in relation to a ticket field whenever that ticket number, for all tickets, lies in the range of values for the ticket field."
   ]
  },
  {
   "cell_type": "code",
   "execution_count": 44,
   "id": "modern-synthesis",
   "metadata": {},
   "outputs": [],
   "source": [
    "def maybefield(tickets: np.ndarray, lwr: np.ndarray, upr: np.ndarray) -> Matrix:\n",
    "    \"\"\"Incidence matrix for the aforementioned relation.\"\"\"\n",
    "    t = tickets.T[..., np.newaxis, np.newaxis]\n",
    "    return ((lwr <= t) & (t <= upr)).any(axis=-1).all(axis=1)\n",
    "\n",
    "valid = ~invalid.reshape(tickets.shape).any(axis=1)\n",
    "enumfields = choice(maybefield(tickets[valid], lwr, upr))"
   ]
  },
  {
   "cell_type": "markdown",
   "id": "former-syntax",
   "metadata": {},
   "source": [
    "For **Part 2**, we find that the product of the numbers in our ticket corresponding to the departure fields is **`3902565915559`**."
   ]
  },
  {
   "cell_type": "code",
   "execution_count": 45,
   "id": "spare-boards",
   "metadata": {},
   "outputs": [],
   "source": [
    "departures = enumfields.argsort()[:6]  # first 6 field names starting with \"departure\"\n",
    "\n",
    "assert 3902565915559 == np.prod(myticket[departures])"
   ]
  },
  {
   "cell_type": "markdown",
   "id": "deluxe-ordinance",
   "metadata": {},
   "source": [
    "<a id='day21'></a>\n",
    "### [Day 21](https://adventofcode.com/2020/day/21): *Allergen Assessment*"
   ]
  },
  {
   "cell_type": "markdown",
   "id": "illegal-equipment",
   "metadata": {},
   "source": [
    "Let’s first collect the allergens and ingredients as lists of lists of strings, ordered by food."
   ]
  },
  {
   "cell_type": "code",
   "execution_count": 46,
   "id": "unable-theology",
   "metadata": {},
   "outputs": [],
   "source": [
    "with open(\"data/21.txt\", \"r\") as f:\n",
    "    foods = re.findall(r\"(.*) \\(contains (.*)\\)\", f.read())\n",
    "    foods = [(ing.split(), agn.split(\", \")) for ing, agn in foods]\n",
    "    ingredients, allergens = zip(*foods)"
   ]
  },
  {
   "cell_type": "markdown",
   "id": "requested-genome",
   "metadata": {},
   "source": [
    "We can encode these lists of lists as incidence matrices with the use of the following function, `incidence()`, which returns an incidence matrix (`inc`) together with the corresponding array of sorted items (`xs`). These return values are characterized by the following property:\n",
    "\n",
    "```python\n",
    "inc, xs = incidence(xss)\n",
    "assert [xs[i].tolist() for i in inc] == list(map(sorted, xss))\n",
    "```\n",
    "\n",
    "(In fact, we’ll need `inc` as an *integer* incidence matrix, which requires `xs[i.astype(bool)]` in place of `xs[i]`.)"
   ]
  },
  {
   "cell_type": "code",
   "execution_count": 47,
   "id": "delayed-statistics",
   "metadata": {},
   "outputs": [],
   "source": [
    "Itemlists = List[List[str]]\n",
    "\n",
    "def incidence(xss: Itemlists) -> Tuple[Matrix, Vector]:\n",
    "    \"\"\"Integer incidence matrix and item array for lists of items.\"\"\"\n",
    "    xs = sorted(set(it.chain.from_iterable(xss)))\n",
    "    enum = {x: i for i, x in enumerate(xs)}\n",
    "    inc = np.zeros((len(xss), len(xs)), dtype=int)\n",
    "    for i, xs_ in enumerate(xss):\n",
    "        inc[i, [enum[x] for x in xs_]] = 1\n",
    "    return inc, np.array(xs)"
   ]
  },
  {
   "cell_type": "markdown",
   "id": "intellectual-stupid",
   "metadata": {},
   "source": [
    "Unpacking `hasing, ing = incidence(ingredients)` assigns a (0,1)-matrix `hasing` (short for “has ingredient”) and an array `ing` of ingredient names in alphabetical order. Each row of `hasing` corresponds to a food, and tabulates the ingredients it contains. Ditto for `incidence(allergens)`.\n",
    "\n",
    "By multiplying these incidence matrices, we can determine the incidence matrix for the **relation between allergens and ingredients** where an allergen is related to an ingredient if that ingredient is present whenever the allergen is. The resulting product tallies the number of foods in which an allergen and ingredient coincide, and the two are related if and only if that tally is maximal. Consequently, the following function computes the (boolean) incidence matrix between allergens and ingredients:"
   ]
  },
  {
   "cell_type": "code",
   "execution_count": 48,
   "id": "alpha-stupid",
   "metadata": {},
   "outputs": [],
   "source": [
    "def maybedangerous(hasagn: Matrix, hasing: Matrix) -> Matrix:\n",
    "    \"\"\"Incidence matrix for the aforementioned relation.\"\"\"\n",
    "    count = hasagn.T @ hasing\n",
    "    return count == count.max(axis=1, keepdims=True)"
   ]
  },
  {
   "cell_type": "markdown",
   "id": "terminal-matter",
   "metadata": {},
   "source": [
    "(This implementation clarifies why `incidence()` returns an integer matrix: the matrix multiplication must be with integers, instead of booleans, in order for it to account for the *number*, and not simply the occurrence, of coincidences.)\n",
    "\n",
    "Putting these functions together, we get a function `danger()` that computes a **choice** for the relation between allergens and ingredients (as well as the incidence matrix for ingredients and the ingredient names themselves). This choice is none other than a mapping from allergens to the ingredients containing them."
   ]
  },
  {
   "cell_type": "code",
   "execution_count": 49,
   "id": "written-calcium",
   "metadata": {},
   "outputs": [],
   "source": [
    "def danger(allergens: Itemlists, ingredients: Itemlists):\n",
    "    hasagn, _   = incidence(allergens)\n",
    "    hasing, ing = incidence(ingredients)\n",
    "    return choice(maybedangerous(hasagn, hasing)), hasing, ing"
   ]
  },
  {
   "cell_type": "markdown",
   "id": "toxic-township",
   "metadata": {},
   "source": [
    "For **Part 1**, we find that **`1882`** ingredients appearing in the lists cannot possibly contain any of the allergens."
   ]
  },
  {
   "cell_type": "code",
   "execution_count": 50,
   "id": "earned-shock",
   "metadata": {},
   "outputs": [],
   "source": [
    "dangerous, hasing, ing = danger(allergens, ingredients)\n",
    "\n",
    "assert 1882 == hasing.sum() - hasing[:, dangerous].sum()"
   ]
  },
  {
   "cell_type": "markdown",
   "id": "limiting-october",
   "metadata": {},
   "source": [
    "For **Part 2**, we find that the list of ingredients that containing allergens, sorted alphabetically by their allergen, is **`xgtj`**, **`ztdctgq`**, **`bdnrnx`**, **`cdvjp`**, **`jdggtft`**, **`mdbq`**, **`rmd`**, **`lgllb`**."
   ]
  },
  {
   "cell_type": "code",
   "execution_count": 51,
   "id": "brilliant-symposium",
   "metadata": {},
   "outputs": [],
   "source": [
    "canonicaldangerous = \",\".join(ing[dangerous])\n",
    "\n",
    "assert \"xgtj,ztdctgq,bdnrnx,cdvjp,jdggtft,mdbq,rmd,lgllb\" == canonicaldangerous"
   ]
  },
  {
   "cell_type": "markdown",
   "id": "useful-christian",
   "metadata": {},
   "source": [
    "<a id='license'></a>\n",
    "## License\n",
    "\n",
    "© 2021 Eugene Ha\n",
    "\n",
    "The code is made available under the [MIT License](https://opensource.org/licenses/MIT); all other content is made available under [CC BY 4.0](https://creativecommons.org/licenses/by/4.0/)."
   ]
  }
 ],
 "metadata": {
  "kernelspec": {
   "display_name": "Python 3",
   "language": "python",
   "name": "python3"
  },
  "language_info": {
   "codemirror_mode": {
    "name": "ipython",
    "version": 3
   },
   "file_extension": ".py",
   "mimetype": "text/x-python",
   "name": "python",
   "nbconvert_exporter": "python",
   "pygments_lexer": "ipython3",
   "version": "3.8.5"
  }
 },
 "nbformat": 4,
 "nbformat_minor": 5
}
