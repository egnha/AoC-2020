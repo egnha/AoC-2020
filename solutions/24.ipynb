{
 "cells": [
  {
   "cell_type": "markdown",
   "metadata": {},
   "source": [
    "# [Day 24](https://adventofcode.com/2020/day/24): Lobby Layout"
   ]
  },
  {
   "cell_type": "code",
   "execution_count": 1,
   "metadata": {},
   "outputs": [],
   "source": [
    "import re\n",
    "\n",
    "pat = re.compile(r\"e|ne|nw|w|sw|se\")\n",
    "\n",
    "with open(\"../data/24.txt\", \"r\") as f:\n",
    "    paths = [pat.findall(l.strip()) for l in f.readlines()]"
   ]
  },
  {
   "cell_type": "markdown",
   "metadata": {},
   "source": [
    "## Part 1"
   ]
  },
  {
   "cell_type": "markdown",
   "metadata": {},
   "source": [
    "Identify the plane with the complex numbers. Then paths in a *regular* hexagonal lattice, starting from a fixed point of origin, are in one-to-one correspondence with sums of sixth roots of unity. If $\\zeta$ is the (primitive) sixth root of unity $e^{\\pi i/3}$, then the directions *e*, *ne*, *nw*, *w*, *sw*, *se* correspond to $1$, $\\zeta$, $\\zeta-1$, $-1$, $-\\zeta$, $-\\zeta+1$, respectively. In fact, whether the lattice is regular or skewed doesn't matter, because we only care about computing the number of times a lattice point is reached by a path. Only the linear independence of $1$ and $\\zeta$ over the real numbers is relevant. In this case, a natural choice for $\\zeta$ is $i$ (the \"north-east\" direction)."
   ]
  },
  {
   "cell_type": "code",
   "execution_count": 2,
   "metadata": {},
   "outputs": [],
   "source": [
    "import numpy as np\n",
    "from collections import Counter\n",
    "\n",
    "moves = dict(e=1+0j, ne=1j, nw=-1+1j, w=-1+0j, sw=-1j, se=1-1j)\n",
    "\n",
    "def blacken(paths):\n",
    "    visits = Counter(sum(map(moves.__getitem__, p)) for p in paths)\n",
    "    return np.array([t for t, v in visits.items() if v % 2], dtype=complex)\n",
    "\n",
    "black = blacken(paths)\n",
    "assert 351 == len(black)"
   ]
  },
  {
   "cell_type": "markdown",
   "metadata": {},
   "source": [
    "## Part 2"
   ]
  },
  {
   "cell_type": "code",
   "execution_count": 3,
   "metadata": {},
   "outputs": [],
   "source": [
    "from functools import reduce\n",
    "\n",
    "shift = np.fromiter(moves.values(), dtype=complex).reshape(-1, 1)\n",
    "\n",
    "def flip(black, _):\n",
    "    nbhs = Counter((black + shift).flat)\n",
    "    return np.concatenate(([b for b, n in nbhs.items() if n == 2],\n",
    "                           [b for b in black if nbhs.get(b) == 1]))\n",
    "\n",
    "assert 3869 == len(reduce(flip, range(100), black))"
   ]
  }
 ],
 "metadata": {
  "kernelspec": {
   "display_name": "Python 3",
   "language": "python",
   "name": "python3"
  },
  "language_info": {
   "codemirror_mode": {
    "name": "ipython",
    "version": 3
   },
   "file_extension": ".py",
   "mimetype": "text/x-python",
   "name": "python",
   "nbconvert_exporter": "python",
   "pygments_lexer": "ipython3",
   "version": "3.8.5"
  }
 },
 "nbformat": 4,
 "nbformat_minor": 4
}
