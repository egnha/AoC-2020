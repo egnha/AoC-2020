{
 "cells": [
  {
   "cell_type": "markdown",
   "metadata": {},
   "source": [
    "# [Day 9](https://adventofcode.com/2020/day/9): Encoding Error"
   ]
  },
  {
   "cell_type": "code",
   "execution_count": 1,
   "metadata": {},
   "outputs": [],
   "source": [
    "with open(\"../data/09.txt\", \"r\") as f:\n",
    "    lines = [int(l.strip()) for l in f.readlines()]"
   ]
  },
  {
   "cell_type": "markdown",
   "metadata": {},
   "source": [
    "## Part 1"
   ]
  },
  {
   "cell_type": "code",
   "execution_count": 2,
   "metadata": {},
   "outputs": [],
   "source": [
    "from itertools import combinations, count\n",
    "\n",
    "window = set(lines[:25])\n",
    "\n",
    "for i in count():\n",
    "    sums = set(x + y for x, y in map(set, combinations(window, 2)))\n",
    "    if (end := lines[i+25]) not in sums:\n",
    "        break\n",
    "    window.remove(lines[i])\n",
    "    window.add(end)\n",
    "\n",
    "assert 2089807806 == end"
   ]
  },
  {
   "cell_type": "markdown",
   "metadata": {},
   "source": [
    "## Part 2"
   ]
  },
  {
   "cell_type": "code",
   "execution_count": 3,
   "metadata": {},
   "outputs": [],
   "source": [
    "import numpy as np\n",
    "\n",
    "nums = np.array(lines)\n",
    "\n",
    "for w in count(1):\n",
    "    sums = np.convolve(nums, np.ones(width := w + 1, dtype=int))[w:-w]\n",
    "    if (equal := sums == end).any():\n",
    "        break\n",
    "        \n",
    "i = int(np.where(equal)[0])\n",
    "rng = nums[i:i+width]\n",
    "\n",
    "assert 245848639 == np.min(rng) + np.max(rng)"
   ]
  }
 ],
 "metadata": {
  "kernelspec": {
   "display_name": "Python 3",
   "language": "python",
   "name": "python3"
  },
  "language_info": {
   "codemirror_mode": {
    "name": "ipython",
    "version": 3
   },
   "file_extension": ".py",
   "mimetype": "text/x-python",
   "name": "python",
   "nbconvert_exporter": "python",
   "pygments_lexer": "ipython3",
   "version": "3.8.5"
  }
 },
 "nbformat": 4,
 "nbformat_minor": 4
}
