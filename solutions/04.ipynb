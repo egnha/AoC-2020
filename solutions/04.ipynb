{
 "cells": [
  {
   "cell_type": "markdown",
   "metadata": {},
   "source": [
    "# [Day 4](https://adventofcode.com/2020/day/4): Passport Processing"
   ]
  },
  {
   "cell_type": "code",
   "execution_count": 1,
   "metadata": {},
   "outputs": [],
   "source": [
    "import re\n",
    "\n",
    "with open(\"../data/04.txt\", \"r\") as f:\n",
    "    passports = f.read().split(\"\\n\\n\")\n",
    "    passports = (p.strip().split() for p in passports)\n",
    "    passports = (dict(entry.split(\":\") for entry in p) for p in passports)"
   ]
  },
  {
   "cell_type": "markdown",
   "metadata": {},
   "source": [
    "## Part 1"
   ]
  },
  {
   "cell_type": "code",
   "execution_count": 2,
   "metadata": {},
   "outputs": [],
   "source": [
    "valid_keys = lambda p: len(p) == 8 or len(p) == 7 and \"cid\" not in p\n",
    "passports = list(filter(valid_keys, passports))\n",
    "assert 202 == len(passports)"
   ]
  },
  {
   "cell_type": "markdown",
   "metadata": {},
   "source": [
    "## Part 2"
   ]
  },
  {
   "cell_type": "code",
   "execution_count": 3,
   "metadata": {},
   "outputs": [],
   "source": [
    "valid_values = lambda p: (\n",
    "    \"1920\" <= p[\"byr\"] <= \"2002\" and\n",
    "    \"2010\" <= p[\"iyr\"] <= \"2020\" and\n",
    "    \"2020\" <= p[\"eyr\"] <= \"2030\" and\n",
    "    valid_hgt(p[\"hgt\"])          and\n",
    "    valid_hcl(p[\"hcl\"])          and\n",
    "    p[\"ecl\"] in eye_color        and\n",
    "    len(p[\"pid\"]) == 9           and\n",
    "    all(\"0\" <= c <= \"9\" for c in p[\"pid\"])\n",
    ")\n",
    "valid_hgt = lambda h: \"150\" <= h[:-2] <= \"193\" if h.endswith(\"cm\") else \"59\" <= h[:-2] <= \"76\"\n",
    "valid_hcl = lambda h: h.startswith(\"#\") and valid_clr(h[1:])\n",
    "valid_clr = lambda c: len(c) == 6 and all(\"0\" <= d <= \"9\" or \"a\" <= d <= \"f\" for d in c)\n",
    "eye_color = {\"amb\", \"blu\", \"brn\", \"gry\", \"grn\", \"hzl\", \"oth\"}\n",
    "assert 137 == sum(1 for p in passports if valid_values(p))"
   ]
  }
 ],
 "metadata": {
  "kernelspec": {
   "display_name": "Python 3",
   "language": "python",
   "name": "python3"
  },
  "language_info": {
   "codemirror_mode": {
    "name": "ipython",
    "version": 3
   },
   "file_extension": ".py",
   "mimetype": "text/x-python",
   "name": "python",
   "nbconvert_exporter": "python",
   "pygments_lexer": "ipython3",
   "version": "3.8.5"
  }
 },
 "nbformat": 4,
 "nbformat_minor": 4
}
