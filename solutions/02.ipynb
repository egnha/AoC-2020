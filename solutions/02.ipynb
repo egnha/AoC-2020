{
 "cells": [
  {
   "cell_type": "markdown",
   "metadata": {},
   "source": [
    "# [Day 2](https://adventofcode.com/2020/day/2): Password Philosophy"
   ]
  },
  {
   "cell_type": "code",
   "execution_count": 1,
   "metadata": {},
   "outputs": [],
   "source": [
    "import re\n",
    "\n",
    "with open(\"../data/02.txt\", \"r\") as f:\n",
    "    entries = re.findall(r\"(\\d+)-(\\d+) ([a-z]): ([a-z]+)\\n\", f.read())\n",
    "    entries = [(int(lwr), int(upr), *rest) for lwr, upr, *rest in entries]"
   ]
  },
  {
   "cell_type": "markdown",
   "metadata": {},
   "source": [
    "## Part 1"
   ]
  },
  {
   "cell_type": "code",
   "execution_count": 2,
   "metadata": {},
   "outputs": [],
   "source": [
    "def length(xs):\n",
    "    return sum(1 for _ in xs)\n",
    "\n",
    "def valid(entry):\n",
    "    lwr, upr, ltr, pw = entry\n",
    "    return lwr <= length(c for c in pw if c == ltr) <= upr\n",
    "\n",
    "assert 410 == length(filter(valid, entries))"
   ]
  },
  {
   "cell_type": "markdown",
   "metadata": {},
   "source": [
    "## Part 2"
   ]
  },
  {
   "cell_type": "code",
   "execution_count": 3,
   "metadata": {},
   "outputs": [],
   "source": [
    "def valid_new(entry):\n",
    "    lwr, upr, ltr, pw = entry\n",
    "    return (pw[lwr - 1] == ltr) ^ (pw[upr - 1] == ltr)\n",
    "\n",
    "assert 694 == length(filter(valid_new, entries))"
   ]
  }
 ],
 "metadata": {
  "kernelspec": {
   "display_name": "Python 3",
   "language": "python",
   "name": "python3"
  },
  "language_info": {
   "codemirror_mode": {
    "name": "ipython",
    "version": 3
   },
   "file_extension": ".py",
   "mimetype": "text/x-python",
   "name": "python",
   "nbconvert_exporter": "python",
   "pygments_lexer": "ipython3",
   "version": "3.8.5"
  }
 },
 "nbformat": 4,
 "nbformat_minor": 4
}
