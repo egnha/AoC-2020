{
 "cells": [
  {
   "cell_type": "markdown",
   "metadata": {},
   "source": [
    "# [Day 21](https://adventofcode.com/2020/day/21): Allergen Assessment"
   ]
  },
  {
   "cell_type": "code",
   "execution_count": 1,
   "metadata": {},
   "outputs": [],
   "source": [
    "import re\n",
    "\n",
    "with open(\"../data/21.txt\", \"r\") as f:\n",
    "    foods = re.findall(r\"(.*) \\(contains (.*)\\)\", f.read())\n",
    "    foods = [(ing.split(), agn.split(\", \")) for ing, agn in foods]\n",
    "    ings, agns = zip(*foods)"
   ]
  },
  {
   "cell_type": "markdown",
   "metadata": {},
   "source": [
    "## Part 1"
   ]
  },
  {
   "cell_type": "code",
   "execution_count": 2,
   "metadata": {},
   "outputs": [],
   "source": [
    "import numpy as np\n",
    "from itertools import chain\n",
    "\n",
    "def danger(agns, ings):\n",
    "    hasagn, _   = subsets(agns)\n",
    "    hasing, ing = subsets(ings)\n",
    "    dangerous = choice(maybedangerous(hasagn, hasing))\n",
    "    return hasing, ing, dangerous\n",
    "\n",
    "def subsets(xss):\n",
    "    xs = sorted(set(chain.from_iterable(xss)))\n",
    "    enum = {x: i for i, x in enumerate(xs)}\n",
    "    ss = np.zeros((len(xss), len(xs)), dtype=int)\n",
    "    for i, xs_ in enumerate(xss):\n",
    "        ss[i, [enum[x] for x in xs_]] = 1\n",
    "    return ss, np.array(xs)\n",
    "\n",
    "def maybedangerous(hasagn, hasing):\n",
    "    cnt = hasagn.T @ hasing\n",
    "    return cnt == cnt.max(axis=1, keepdims=True)\n",
    "\n",
    "# cf. Day 16\n",
    "def choice(p):\n",
    "    \"\"\"Find a choice for a boolean matrix.\"\"\"\n",
    "    ch, a = np.empty((len(p), 2), dtype=int), 0\n",
    "    indices = np.einsum(\"cab->abc\", np.indices(p.shape))\n",
    "    while len(p):\n",
    "        unamb, amb = unambiguous(p)\n",
    "        ch[a:(a := a + unamb.sum())] = indices[unamb]\n",
    "        p, indices = p[amb], indices[amb]\n",
    "    return ch[ch[:, 0].argsort(), 1]\n",
    "\n",
    "def unambiguous(p):\n",
    "    \"\"\"Unambiguous choices for a boolean matrix.\"\"\"\n",
    "    a = p.sum(axis=1) == 1\n",
    "    b = p[a].sum(axis=0) == 1\n",
    "    unamb = np.zeros(p.shape, dtype=bool)\n",
    "    unamb[ab] = p[(ab := np.ix_(a, b))]\n",
    "    amb = np.ix_(~a | ~p[:, b].any(axis=1), ~b)\n",
    "    return unamb, amb  \n",
    "\n",
    "hasing, ing, dangerous = danger(agns, ings)\n",
    "assert 1882 == hasing.sum() - hasing[:, dangerous].sum()"
   ]
  },
  {
   "cell_type": "markdown",
   "metadata": {},
   "source": [
    "## Part 2"
   ]
  },
  {
   "cell_type": "code",
   "execution_count": 3,
   "metadata": {},
   "outputs": [],
   "source": [
    "canonicaldangerous = \",\".join(ing[dangerous])\n",
    "assert \"xgtj,ztdctgq,bdnrnx,cdvjp,jdggtft,mdbq,rmd,lgllb\" == canonicaldangerous"
   ]
  }
 ],
 "metadata": {
  "kernelspec": {
   "display_name": "Python 3",
   "language": "python",
   "name": "python3"
  },
  "language_info": {
   "codemirror_mode": {
    "name": "ipython",
    "version": 3
   },
   "file_extension": ".py",
   "mimetype": "text/x-python",
   "name": "python",
   "nbconvert_exporter": "python",
   "pygments_lexer": "ipython3",
   "version": "3.8.5"
  }
 },
 "nbformat": 4,
 "nbformat_minor": 4
}
