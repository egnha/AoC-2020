{
 "cells": [
  {
   "cell_type": "markdown",
   "metadata": {},
   "source": [
    "# [Day 16](https://adventofcode.com/2020/day/16): Ticket Translation"
   ]
  },
  {
   "cell_type": "code",
   "execution_count": 1,
   "metadata": {},
   "outputs": [],
   "source": [
    "import numpy as np\n",
    "import re\n",
    "\n",
    "with open(\"../data/16.txt\", \"r\") as f:\n",
    "    lines = [l.strip() for l in f.readlines()]\n",
    "\n",
    "ranges = re.findall(r\"(\\d+)-(\\d+)\", \"\".join(lines[:20]))\n",
    "lwr, upr = np.array(ranges, dtype=int).T.reshape(2, 20, 2)\n",
    "myticket = np.array(lines[22].split(\",\"), dtype=int)\n",
    "tickets = np.array([t.split(\",\") for t in lines[25:]], dtype=int)"
   ]
  },
  {
   "cell_type": "markdown",
   "metadata": {},
   "source": [
    "## Part 1"
   ]
  },
  {
   "cell_type": "code",
   "execution_count": 2,
   "metadata": {},
   "outputs": [],
   "source": [
    "nums = tickets.reshape(tickets.size, 1, 1)\n",
    "invalid = ((nums < lwr) | (upr < nums)).all(axis=(1, 2))\n",
    "assert 25788 == np.sum(nums[invalid])"
   ]
  },
  {
   "cell_type": "markdown",
   "metadata": {},
   "source": [
    "## Part 2"
   ]
  },
  {
   "cell_type": "code",
   "execution_count": 3,
   "metadata": {},
   "outputs": [],
   "source": [
    "def enumfields(tickets, lwr, upr):\n",
    "    infield = choice(maybefield(tickets, lwr, upr))\n",
    "    return infield.argsort()\n",
    "\n",
    "def maybefield(tickets, lwr, upr):\n",
    "    t = tickets.T[..., np.newaxis, np.newaxis]\n",
    "    return ((lwr <= t) & (t <= upr)).any(axis=-1).all(axis=1)\n",
    "\n",
    "# cf. Day 21\n",
    "def choice(p):\n",
    "    \"\"\"Find a choice for a boolean matrix.\"\"\"\n",
    "    ch, a = np.empty((len(p), 2), dtype=int), 0\n",
    "    indices = np.einsum(\"cab->abc\", np.indices(p.shape))\n",
    "    while len(p):\n",
    "        unamb, amb = unambiguous(p)\n",
    "        ch[a:(a := a + unamb.sum())] = indices[unamb]\n",
    "        p, indices = p[amb], indices[amb]\n",
    "    return ch[ch[:, 0].argsort(), 1]\n",
    "\n",
    "def unambiguous(p):\n",
    "    \"\"\"Unambiguous choices for a boolean matrix.\"\"\"\n",
    "    a = p.sum(axis=1) == 1\n",
    "    b = p[a].sum(axis=0) == 1\n",
    "    unamb = np.zeros(p.shape, dtype=bool)\n",
    "    unamb[ab] = p[(ab := np.ix_(a, b))]\n",
    "    amb = np.ix_(~a | ~p[:, b].any(axis=1), ~b)\n",
    "    return unamb, amb \n",
    "\n",
    "valid = ~invalid.reshape(tickets.shape).any(axis=1)\n",
    "departures = enumfields(tickets[valid], lwr, upr)[:6]\n",
    "assert 3902565915559 == np.prod(myticket[departures])"
   ]
  }
 ],
 "metadata": {
  "kernelspec": {
   "display_name": "Python 3",
   "language": "python",
   "name": "python3"
  },
  "language_info": {
   "codemirror_mode": {
    "name": "ipython",
    "version": 3
   },
   "file_extension": ".py",
   "mimetype": "text/x-python",
   "name": "python",
   "nbconvert_exporter": "python",
   "pygments_lexer": "ipython3",
   "version": "3.8.5"
  }
 },
 "nbformat": 4,
 "nbformat_minor": 4
}
