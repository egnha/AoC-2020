{
 "cells": [
  {
   "cell_type": "markdown",
   "metadata": {},
   "source": [
    "# [Day 14](https://adventofcode.com/2020/day/14): Docking Data"
   ]
  },
  {
   "cell_type": "code",
   "execution_count": 1,
   "metadata": {},
   "outputs": [],
   "source": [
    "import re\n",
    "\n",
    "with open(\"../data/14.txt\", \"r\") as f:\n",
    "    code = re.sub(\"mem\", \"self\", f.read())\n",
    "    code = re.sub(r\"mask = (.*)\\n\", r\"self.mask = '\\1'\\n\", code)"
   ]
  },
  {
   "cell_type": "markdown",
   "metadata": {},
   "source": [
    "## Part 1"
   ]
  },
  {
   "cell_type": "code",
   "execution_count": 2,
   "metadata": {},
   "outputs": [],
   "source": [
    "class Memory(dict):\n",
    "    \"\"\"Memory as a dictionary of address-value pairs.\"\"\"\n",
    "    \n",
    "    def run(self, code):\n",
    "        exec(code)\n",
    "        return self\n",
    "    \n",
    "    def setmask(self, val):\n",
    "        self._mask = self.asint(\"1\" if x == \"X\" else \"0\" for x in val)\n",
    "        self._places = [i for i, x in enumerate(reversed(val)) if x == \"X\"]\n",
    "        self._overwrite = self.asint(\"0\" if x == \"X\" else x for x in val)\n",
    "    \n",
    "    mask = property(fset=setmask)\n",
    "    \n",
    "    @staticmethod\n",
    "    def asint(x):\n",
    "        return int(\"\".join(x), 2)\n",
    "\n",
    "    def __setitem__(self, addr, val):\n",
    "        \"\"\"Write values to memory.\"\"\"\n",
    "        for a, v in self.registers(addr, val):\n",
    "            super().__setitem__(a, v)\n",
    "    \n",
    "    def registers(self, addr, val):\n",
    "        \"\"\"Generate address-value pairs to write; assign dynamically.\"\"\"\n",
    "        \n",
    "    def __iter__(self):\n",
    "        return iter(super().values())\n",
    "\n",
    "class Part1(Memory):\n",
    "    \"\"\"Apply bitmask to memory values.\"\"\"\n",
    "    \n",
    "    def registers(self, addr, val):\n",
    "        yield addr, (val & self._mask) | self._overwrite\n",
    "        \n",
    "assert 7817357407588 == sum(Part1().run(code))"
   ]
  },
  {
   "cell_type": "markdown",
   "metadata": {},
   "source": [
    "## Part 2"
   ]
  },
  {
   "cell_type": "code",
   "execution_count": 3,
   "metadata": {},
   "outputs": [],
   "source": [
    "from itertools import product\n",
    "from operator import lshift\n",
    "\n",
    "class Part2(Memory):\n",
    "    \"\"\"Decode memory addresses.\"\"\"\n",
    "\n",
    "    def registers(self, addr, val):\n",
    "        addr = (addr | self._overwrite) & (self.BITS36 ^ self._mask)\n",
    "        for bits in product((0, 1), repeat=len(self._places)):\n",
    "            yield addr | sum(map(lshift, bits, self._places)), val\n",
    "\n",
    "    BITS36 = 2**36 - 1\n",
    "\n",
    "assert 4335927555692 == sum(Part2().run(code))"
   ]
  }
 ],
 "metadata": {
  "kernelspec": {
   "display_name": "Python 3",
   "language": "python",
   "name": "python3"
  },
  "language_info": {
   "codemirror_mode": {
    "name": "ipython",
    "version": 3
   },
   "file_extension": ".py",
   "mimetype": "text/x-python",
   "name": "python",
   "nbconvert_exporter": "python",
   "pygments_lexer": "ipython3",
   "version": "3.8.5"
  }
 },
 "nbformat": 4,
 "nbformat_minor": 4
}
