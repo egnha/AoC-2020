{
 "cells": [
  {
   "cell_type": "markdown",
   "metadata": {},
   "source": [
    "# [Day 12](https://adventofcode.com/2020/day/12): Rain Risk"
   ]
  },
  {
   "cell_type": "code",
   "execution_count": 1,
   "metadata": {},
   "outputs": [],
   "source": [
    "with open(\"../data/12.txt\", \"r\") as f:\n",
    "    directions = [(l[0], int(l[1:])) for l in f.readlines()]"
   ]
  },
  {
   "cell_type": "markdown",
   "metadata": {},
   "source": [
    "## Part 1"
   ]
  },
  {
   "cell_type": "code",
   "execution_count": 2,
   "metadata": {},
   "outputs": [],
   "source": [
    "import numpy as np\n",
    "from operator import matmul\n",
    "from functools import reduce\n",
    "\n",
    "turn = lambda w: np.diag([1,w,1])\n",
    "forward = lambda w: np.array([[1,0,0],[w,1,0],[0,0,1]])\n",
    "\n",
    "def navigate(init, move):\n",
    "    nav = navigation(move, turn, forward)\n",
    "    end = reduce(matmul, (nav[d](n) for d, n in directions), init)\n",
    "    return end[0]\n",
    "\n",
    "def navigation(move, turn, forward):\n",
    "    return dict(N=lambda n: move(n*1J),\n",
    "                S=lambda n: move(-n*1J),\n",
    "                E=lambda n: move(n),\n",
    "                W=lambda n: move(-n),\n",
    "                L=lambda n: turn(1J ** (n//90)),\n",
    "                R=lambda n: turn((-1J) ** (n//90)),\n",
    "                F=lambda n: forward(n))\n",
    "\n",
    "manhattan = lambda z: abs(z.real) + abs(z.imag)\n",
    "\n",
    "move = lambda w: np.array([[1,0,0],[0,1,0],[w,0,1]])\n",
    "assert 1457 == int(manhattan(navigate(np.array([0,1,1]), move)))"
   ]
  },
  {
   "cell_type": "markdown",
   "metadata": {},
   "source": [
    "## Part 2"
   ]
  },
  {
   "cell_type": "code",
   "execution_count": 3,
   "metadata": {},
   "outputs": [],
   "source": [
    "move = lambda w: np.array([[1,0,0],[0,1,0],[0,w,1]])\n",
    "assert 106860 == int(manhattan(navigate(np.array([0,10+1J,1]), move)))"
   ]
  }
 ],
 "metadata": {
  "kernelspec": {
   "display_name": "Python 3",
   "language": "python",
   "name": "python3"
  },
  "language_info": {
   "codemirror_mode": {
    "name": "ipython",
    "version": 3
   },
   "file_extension": ".py",
   "mimetype": "text/x-python",
   "name": "python",
   "nbconvert_exporter": "python",
   "pygments_lexer": "ipython3",
   "version": "3.8.5"
  }
 },
 "nbformat": 4,
 "nbformat_minor": 4
}
