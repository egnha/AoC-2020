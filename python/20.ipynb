{
 "cells": [
  {
   "cell_type": "markdown",
   "metadata": {},
   "source": [
    "# [Day 20](https://adventofcode.com/2020/day/20)"
   ]
  },
  {
   "cell_type": "code",
   "execution_count": 1,
   "metadata": {},
   "outputs": [],
   "source": [
    "with open(\"../data/20.txt\", \"r\") as f:\n",
    "    lines = \"\".join(l.strip() for l in f.readlines())\n",
    "\n",
    "import numpy as np\n",
    "import re\n",
    "\n",
    "pat = re.compile(r\"Tile (\\d+):([\\.|#]+)\")\n",
    "id_tile = pat.findall(lines)\n",
    "ids = np.array([int(i) for i, _ in id_tile])\n",
    "tiles = np.array([list(t) for _, t in id_tile]) == \"#\"\n",
    "tiles = tiles.reshape(-1, 10, 10)\n",
    "tiles = tiles[:, :, ::-1]  # Flip tiles"
   ]
  },
  {
   "cell_type": "markdown",
   "metadata": {},
   "source": [
    "## Part 1"
   ]
  },
  {
   "cell_type": "code",
   "execution_count": 3,
   "metadata": {},
   "outputs": [],
   "source": [
    "from itertools import chain\n",
    "\n",
    "def border(tile):\n",
    "    es = edges(tile)\n",
    "    return list(map(tuple, chain(es, map(reversed, es))))\n",
    "\n",
    "def edges(tile):\n",
    "    return tile[0, :], tile[:, -1], tile[-1, :], tile[:, 0]"
   ]
  },
  {
   "cell_type": "code",
   "execution_count": 4,
   "metadata": {},
   "outputs": [],
   "source": [
    "borders = list(map(border, tiles))"
   ]
  },
  {
   "cell_type": "code",
   "execution_count": null,
   "metadata": {},
   "outputs": [],
   "source": [
    "# from collections import defaultdict, Counter\n",
    "\n",
    "edge_id = defaultdict(set)\n",
    "\n",
    "for i, es in enumerate(borders):\n",
    "    for e in es:\n",
    "        edge_id[e].add(i)\n",
    "        \n",
    "counts = Counter(ids.pop() for _, ids in edge_id.items() if len(ids) == 1)\n",
    "corners = [i for i, n in counts.items() if n == 4]\n",
    "assert 21599955909991 == np.prod(ids[corners])"
   ]
  },
  {
   "cell_type": "markdown",
   "metadata": {},
   "source": [
    "## Part 2"
   ]
  },
  {
   "cell_type": "code",
   "execution_count": null,
   "metadata": {},
   "outputs": [],
   "source": [
    "monster = \"\"\"\\\n",
    "                  # \\\n",
    "#    ##    ##    ###\\\n",
    " #  #  #  #  #  #   \\\n",
    "\"\"\"\n",
    "monster = np.array(list(monster)).reshape(3, -1)\n",
    "monster = monster == \"#\""
   ]
  },
  {
   "cell_type": "code",
   "execution_count": null,
   "metadata": {},
   "outputs": [],
   "source": [
    "monster.astype(int)"
   ]
  },
  {
   "cell_type": "code",
   "execution_count": null,
   "metadata": {},
   "outputs": [],
   "source": [
    "for c in corners:\n",
    "    print(c, [edge_id[e] for e in borders[c]])"
   ]
  },
  {
   "cell_type": "code",
   "execution_count": null,
   "metadata": {},
   "outputs": [],
   "source": [
    "# By inspection, we know how to rotate corner tiles into standard position:\n",
    "\n",
    "def rot_counterclockwise(t):\n",
    "    return t.T[::-1, :]\n",
    "\n",
    "def rot_clockwise(t):\n",
    "    return t.T[:, ::-1]\n",
    "\n",
    "tiles2 = tiles.copy()\n",
    "tiles2[38] = rot_counterclockwise(tiles2[38])\n",
    "tiles2[46] = rot_clockwise(tiles2[46])\n",
    "\n",
    "borders2 = list(map(border, tiles2))"
   ]
  },
  {
   "cell_type": "code",
   "execution_count": null,
   "metadata": {},
   "outputs": [],
   "source": [
    "corners"
   ]
  },
  {
   "cell_type": "code",
   "execution_count": null,
   "metadata": {},
   "outputs": [],
   "source": [
    "# Generate corner combinations"
   ]
  },
  {
   "cell_type": "code",
   "execution_count": null,
   "metadata": {},
   "outputs": [],
   "source": [
    "from itertools import dropwhile\n",
    "\n",
    "# Rotate corners in to standard position\n",
    "for c in corners:\n",
    "    es = [edge_id[e] for e in borders[c]]\n",
    "    print(c, [i for i, e in enumerate(es[:4]) if not e])"
   ]
  },
  {
   "cell_type": "code",
   "execution_count": null,
   "metadata": {},
   "outputs": [],
   "source": [
    "tiles.shape"
   ]
  },
  {
   "cell_type": "code",
   "execution_count": null,
   "metadata": {},
   "outputs": [],
   "source": [
    "bool({1})"
   ]
  },
  {
   "cell_type": "code",
   "execution_count": null,
   "metadata": {},
   "outputs": [],
   "source": [
    "borders[38]"
   ]
  }
 ],
 "metadata": {
  "kernelspec": {
   "display_name": "Python 3",
   "language": "python",
   "name": "python3"
  },
  "language_info": {
   "codemirror_mode": {
    "name": "ipython",
    "version": 3
   },
   "file_extension": ".py",
   "mimetype": "text/x-python",
   "name": "python",
   "nbconvert_exporter": "python",
   "pygments_lexer": "ipython3",
   "version": "3.8.5"
  }
 },
 "nbformat": 4,
 "nbformat_minor": 4
}
