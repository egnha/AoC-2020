{
 "cells": [
  {
   "cell_type": "markdown",
   "metadata": {},
   "source": [
    "# [Day 20](https://adventofcode.com/2020/day/20): Jurassic Jigsaw"
   ]
  },
  {
   "cell_type": "code",
   "execution_count": 1,
   "metadata": {},
   "outputs": [],
   "source": [
    "import numpy as np\n",
    "import re\n",
    "\n",
    "with open(\"../data/20.txt\", \"r\") as f:\n",
    "    lines = \"\".join(l.strip() for l in f.readlines())    \n",
    "    id_tile = re.findall(r\"Tile (\\d+):([\\.|#]+)\", lines)\n",
    "\n",
    "ids = np.array([int(i) for i, _ in id_tile])\n",
    "tiles = np.array([list(t) for _, t in id_tile]) == \"#\"\n",
    "tiles = tiles.reshape(-1, 10, 10)"
   ]
  },
  {
   "cell_type": "markdown",
   "metadata": {},
   "source": [
    "## Part 1"
   ]
  },
  {
   "cell_type": "code",
   "execution_count": 2,
   "metadata": {},
   "outputs": [],
   "source": [
    "from itertools import chain\n",
    "\n",
    "def border(tile):\n",
    "    es = tile[0, :], tile[:, -1], tile[-1, :], tile[:, 0]\n",
    "    return map(tuple, chain(es, map(reversed, es)))"
   ]
  },
  {
   "cell_type": "code",
   "execution_count": 3,
   "metadata": {},
   "outputs": [],
   "source": [
    "from collections import defaultdict, Counter\n",
    "\n",
    "def boundary(tiles):\n",
    "    t = defaultdict(set)\n",
    "    for i, es in enumerate(map(border, tiles)):\n",
    "        for e in es:\n",
    "            t[e].add(i)\n",
    "    cts = Counter(i.pop() for _, i in t.items() if len(i) == 1)\n",
    "    sides = [i for i, n in cts.items() if n == 2]\n",
    "    corners = [i for i, n in cts.items() if n == 4]\n",
    "    edges = np.array([e for e, i in t.items() if not i])\n",
    "    return edges, sides, corners"
   ]
  },
  {
   "cell_type": "code",
   "execution_count": 4,
   "metadata": {},
   "outputs": [],
   "source": [
    "edges, sides, corners = boundary(tiles)\n",
    "assert 21599955909991 == np.prod(ids[corners])"
   ]
  },
  {
   "cell_type": "markdown",
   "metadata": {},
   "source": [
    "## Part 2"
   ]
  },
  {
   "cell_type": "code",
   "execution_count": 5,
   "metadata": {},
   "outputs": [],
   "source": [
    "from functools import reduce\n",
    "\n",
    "def rings(tiles):\n",
    "    tiles = tiles.copy()\n",
    "    nw = None\n",
    "    while len(tiles) > 0:\n",
    "        edges, sides, corners = boundary(tiles)\n",
    "        rings = list(arrange(edges, tiles[sides], tiles[corners], nw))\n",
    "        yield from rings\n",
    "        nw = rings[1][-1], rings[-1][:, -1]\n",
    "        tiles = inner(tiles, sides, corners)\n",
    "\n",
    "def inner(tiles, sides, corners):\n",
    "    inside = np.ones(len(tiles), dtype=bool)\n",
    "    inside[sides] = False\n",
    "    inside[corners] = False\n",
    "    return tiles[inside]\n",
    "\n",
    "def arrange(edges, sides, corners, nw):\n",
    "    sides, corners = normalize(edges, sides, corners)\n",
    "    n = len(sides) // 4\n",
    "    if nw is None:\n",
    "        corner = corners[0]\n",
    "        corners = corners[1:]\n",
    "    else:\n",
    "        for i, c in enumerate(corners):\n",
    "            if np.all(c[0] == nw[0]) and np.all(c[:, 0] == nw[1]):\n",
    "                break\n",
    "            c = c.T\n",
    "            if np.all(c[0] == nw[0]) and np.all(c[:, 0] == nw[1]):\n",
    "                break\n",
    "        corner = c\n",
    "        corners = corners[np.arange(4) != i]\n",
    "    for k in range(4):\n",
    "        edge = corner[:, -1]\n",
    "        yield turn_clockwise(corner, k)\n",
    "        for _ in range(n):\n",
    "            for i, s in enumerate(sides):\n",
    "                l, r = s[:, 0], s[:, -1]\n",
    "                if np.all(l == edge):\n",
    "                    edge = r\n",
    "                    yield turn_clockwise(s, k)\n",
    "                    break\n",
    "                if np.all(r == edge):\n",
    "                    edge = l\n",
    "                    yield turn_clockwise(s[:, ::-1], k)\n",
    "                    break\n",
    "            sides = sides[np.arange(len(sides)) != i]\n",
    "        for i, corner in enumerate(corners):\n",
    "            if np.all(corner[-1] == edge):\n",
    "                break\n",
    "            if np.all(corner[:, -1] == edge):\n",
    "                corner = corner.T\n",
    "                break\n",
    "        corners = corners[np.arange(len(corners)) != i]\n",
    "    \n",
    "def normalize(edges, sides, corners):\n",
    "    edges = edges[np.newaxis, np.newaxis, :, :]\n",
    "    if len(sides):\n",
    "        sides = list(map(turn_counterclockwise, sides, np.argmax(isouter(edges, sides), axis=1)))\n",
    "    else:\n",
    "        sides = []\n",
    "    corners = list(map(turn_counterclockwise, corners, map(nturns, isouter(edges, corners))))\n",
    "    return np.array(sides), np.array(corners)\n",
    "\n",
    "def isouter(edges, tiles):\n",
    "    o = np.array(list(map(bd, tiles)))[:, :, np.newaxis, :] == edges\n",
    "    return np.any(np.all(o, axis=3), axis=2)\n",
    "\n",
    "def bd(tile):\n",
    "    return tile[0, :], tile[:, -1], tile[-1, :], tile[:, 0]\n",
    "\n",
    "def turn_counterclockwise(tile, n):\n",
    "    return reduce(lambda t, _: t.T[::-1], range(n), tile)\n",
    "\n",
    "def turn_clockwise(tile, n):\n",
    "    return reduce(lambda t, _: t.T[:, ::-1], range(n), tile)\n",
    "\n",
    "def nturns(isouter, NWCORNER=np.array([True, False, False, True])):\n",
    "    return next(n for n in range(4) if np.all(np.roll(isouter, -n) == NWCORNER))"
   ]
  },
  {
   "cell_type": "code",
   "execution_count": 6,
   "metadata": {},
   "outputs": [],
   "source": [
    "def boundary_indices(n):\n",
    "    i = np.zeros(4*(n + 1) - 8, dtype=int)\n",
    "    i[n:(2*n - 1)] = np.arange(1, n)\n",
    "    i[(2*n - 1):-n + 1] = n - 1\n",
    "    i[-n + 1:] = np.arange(n - 1, 0, -1)\n",
    "    return np.array([i, np.roll(i, -n + 1)]).T"
   ]
  },
  {
   "cell_type": "code",
   "execution_count": 7,
   "metadata": {},
   "outputs": [],
   "source": [
    "tiles2 = np.array(list(rings(tiles)))[:, 1:-1, 1:-1]\n",
    "grid = np.empty((96, 96), dtype=bool)\n",
    "l = 0\n",
    "for n, s in zip(range(12, 0, -2), range(0, 48, 8)):\n",
    "    ij = boundary_indices(n)\n",
    "    ring = tiles2[l:l+len(ij)]\n",
    "    l += len(ij)\n",
    "    for (i, j), r in zip(ij, ring):\n",
    "        grid[(s+8*i):(s+8*(i+1)), (s+8*j):(s+8*(j+1))] = r"
   ]
  },
  {
   "cell_type": "code",
   "execution_count": 8,
   "metadata": {},
   "outputs": [],
   "source": [
    "tiles3 = np.array(list(rings(tiles)))\n",
    "grid3 = np.empty((120, 120), dtype=bool)\n",
    "l = 0\n",
    "for n, s in zip(range(12, 0, -2), range(0, 60, 10)):\n",
    "    ij = boundary_indices(n)\n",
    "    ring = tiles3[l:l+len(ij)]\n",
    "    l += len(ij)\n",
    "    for (i, j), r in zip(ij, ring):\n",
    "        grid3[(s+10*i):(s+10*(i+1)), (s+10*j):(s+10*(j+1))] = r"
   ]
  },
  {
   "cell_type": "code",
   "execution_count": 9,
   "metadata": {},
   "outputs": [],
   "source": [
    "for i in range(10, 120, 10):\n",
    "    assert np.all(grid3[:, i-1] == grid3[:, i])\n",
    "    assert np.all(grid3[i-1] == grid3[i])"
   ]
  },
  {
   "cell_type": "code",
   "execution_count": 10,
   "metadata": {},
   "outputs": [],
   "source": [
    "monster = \"\"\"\\\n",
    "                  # \\\n",
    "#    ##    ##    ###\\\n",
    " #  #  #  #  #  #   \\\n",
    "\"\"\"\n",
    "monster = np.array(list(monster)).reshape(3, -1)\n",
    "monster = monster == \"#\"\n",
    "monster = monster[np.newaxis, :, :]"
   ]
  },
  {
   "cell_type": "code",
   "execution_count": 11,
   "metadata": {},
   "outputs": [],
   "source": [
    "from itertools import product\n",
    "\n",
    "pos = list(product(range(96-3+1), range(96-20+1)))\n",
    "\n",
    "def overlap_monster(grid):\n",
    "    return monster & np.array([grid[i:i+3, j:j+20] for i, j in pos])"
   ]
  },
  {
   "cell_type": "code",
   "execution_count": 12,
   "metadata": {},
   "outputs": [
    {
     "name": "stdout",
     "output_type": "stream",
     "text": [
      "0 2735\n",
      "0 2735\n",
      "0 2735\n",
      "0 2735\n"
     ]
    }
   ],
   "source": [
    "g = grid.copy()\n",
    "for _ in range(4):\n",
    "    overlaps = overlap_monster(g)\n",
    "    n_monster = np.sum(np.sum(overlaps, axis=(1, 2)) == 15)\n",
    "    print(n_monster, np.sum(g) - n_monster * 15)\n",
    "    g = g.T[::-1]"
   ]
  },
  {
   "cell_type": "code",
   "execution_count": 13,
   "metadata": {},
   "outputs": [
    {
     "name": "stdout",
     "output_type": "stream",
     "text": [
      "0 2735\n",
      "0 2735\n",
      "16 2495\n",
      "0 2735\n"
     ]
    }
   ],
   "source": [
    "g = grid[::-1].copy()\n",
    "for _ in range(4):\n",
    "    overlaps = overlap_monster(g)\n",
    "    n_monster = np.sum(np.sum(overlaps, axis=(1, 2)) == 15)\n",
    "    print(n_monster, np.sum(g) - n_monster * 15)\n",
    "    g = g.T[::-1]"
   ]
  },
  {
   "cell_type": "markdown",
   "metadata": {},
   "source": [
    "Answer for part two is `2495`."
   ]
  }
 ],
 "metadata": {
  "kernelspec": {
   "display_name": "Python 3",
   "language": "python",
   "name": "python3"
  },
  "language_info": {
   "codemirror_mode": {
    "name": "ipython",
    "version": 3
   },
   "file_extension": ".py",
   "mimetype": "text/x-python",
   "name": "python",
   "nbconvert_exporter": "python",
   "pygments_lexer": "ipython3",
   "version": "3.8.5"
  }
 },
 "nbformat": 4,
 "nbformat_minor": 4
}
