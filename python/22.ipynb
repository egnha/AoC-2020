{
 "cells": [
  {
   "cell_type": "markdown",
   "metadata": {},
   "source": [
    "# [Day 22](https://adventofcode.com/2020/day/22): Crab Combat"
   ]
  },
  {
   "cell_type": "code",
   "execution_count": 1,
   "metadata": {},
   "outputs": [],
   "source": [
    "import re\n",
    "\n",
    "pat = re.compile(r\"Player \\d:\\n([\\d+\\n]+)\\n\")\n",
    "\n",
    "with open(\"../data/22.txt\", \"r\") as f:\n",
    "    decks = pat.findall(f.read())\n",
    "    \n",
    "decks = [d.strip().split(\"\\n\") for d in decks]\n",
    "decks = tuple(tuple(map(int, d)) for d in decks)"
   ]
  },
  {
   "cell_type": "markdown",
   "metadata": {},
   "source": [
    "## Part 1"
   ]
  },
  {
   "cell_type": "code",
   "execution_count": 2,
   "metadata": {},
   "outputs": [],
   "source": [
    "from collections import deque\n",
    "from operator import mul\n",
    "from itertools import starmap\n",
    "\n",
    "d1, d2 = decks\n",
    "d1 = deque(d1)\n",
    "d2 = deque(d2)\n",
    "\n",
    "while d1 and d2:\n",
    "    c1, c2 = d1.popleft(), d2.popleft()\n",
    "    if c1 > c2:\n",
    "        d1.extend([c1, c2])\n",
    "    else:\n",
    "        d2.extend([c2, c1])\n",
    "\n",
    "score = lambda d: sum(starmap(mul, enumerate(reversed(d), 1)))\n",
    "\n",
    "assert 32598 == score(d1 or d2)"
   ]
  },
  {
   "cell_type": "markdown",
   "metadata": {},
   "source": [
    "## Part 2"
   ]
  },
  {
   "cell_type": "code",
   "execution_count": 3,
   "metadata": {},
   "outputs": [],
   "source": [
    "def game(deck1, deck2):\n",
    "    deckses = set()\n",
    "    while deck1 and deck2:\n",
    "        if (deck1, deck2) in deckses:\n",
    "            return deck1, None\n",
    "        deckses.add((deck1, deck2))\n",
    "        d1, d2 = round(deck1, deck2)\n",
    "        if d1 and d2:\n",
    "            deck1, deck2 = d1, d2\n",
    "        elif d1:\n",
    "            deck1, deck2 = accum1(deck1, deck2)\n",
    "        else:\n",
    "            deck1, deck2 = accum2(deck1, deck2)\n",
    "    return deck1, deck2\n",
    "\n",
    "def round(deck1, deck2):\n",
    "    (x1, *d1), (x2, *d2) = deck1, deck2\n",
    "    if x1 <= len(d1) and x2 <= len(d2):\n",
    "        return game(tuple(d1[:x1]), tuple(d2[:x2]))\n",
    "    if x1 > x2:\n",
    "        return accum1(deck1, deck2)\n",
    "    return accum2(deck1, deck2)\n",
    "\n",
    "accum1 = lambda x, y: ((*x[1:], x[0], y[0]), y[1:])\n",
    "accum2 = lambda x, y: (x[1:], (*y[1:], y[0], x[0]))\n",
    "\n",
    "d1, d2 = game(*decks)\n",
    "assert 35836 == score(d1 or d2)"
   ]
  }
 ],
 "metadata": {
  "kernelspec": {
   "display_name": "Python 3",
   "language": "python",
   "name": "python3"
  },
  "language_info": {
   "codemirror_mode": {
    "name": "ipython",
    "version": 3
   },
   "file_extension": ".py",
   "mimetype": "text/x-python",
   "name": "python",
   "nbconvert_exporter": "python",
   "pygments_lexer": "ipython3",
   "version": "3.8.5"
  }
 },
 "nbformat": 4,
 "nbformat_minor": 4
}
