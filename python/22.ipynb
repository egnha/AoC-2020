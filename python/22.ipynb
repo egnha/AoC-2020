{
 "cells": [
  {
   "cell_type": "markdown",
   "metadata": {},
   "source": [
    "# [Day 22](https://adventofcode.com/2020/day/22): Crab Combat"
   ]
  },
  {
   "cell_type": "code",
   "execution_count": 1,
   "metadata": {},
   "outputs": [],
   "source": [
    "import re\n",
    "\n",
    "with open(\"../data/22.txt\", \"r\") as f:\n",
    "    decks = re.findall(r\"Player \\d:\\n([\\d+\\n]+)\\n\", f.read())\n",
    "    decks = (d.strip().split(\"\\n\") for d in decks)\n",
    "    decks = [tuple(map(int, d)) for d in decks]"
   ]
  },
  {
   "cell_type": "markdown",
   "metadata": {},
   "source": [
    "## Part 1"
   ]
  },
  {
   "cell_type": "code",
   "execution_count": 2,
   "metadata": {},
   "outputs": [],
   "source": [
    "from collections import deque\n",
    "from operator import mul\n",
    "from itertools import starmap\n",
    "\n",
    "def combat(decks):\n",
    "    deck1, deck2 = map(deque, decks)\n",
    "    while deck1 and deck2:\n",
    "        if (x1 := deck1.popleft()) > (x2 := deck2.popleft()):\n",
    "            deck1.extend([x1, x2])\n",
    "        else:\n",
    "            deck2.extend([x2, x1])\n",
    "    return deck1, deck2\n",
    "\n",
    "def score(deck):\n",
    "    return sum(starmap(mul, enumerate(reversed(deck), 1)))\n",
    "\n",
    "deck1, deck2 = combat(decks)\n",
    "assert 32598 == score(deck1 or deck2)"
   ]
  },
  {
   "cell_type": "markdown",
   "metadata": {},
   "source": [
    "## Part 2"
   ]
  },
  {
   "cell_type": "code",
   "execution_count": 3,
   "metadata": {},
   "outputs": [],
   "source": [
    "def recurcombat(decks):\n",
    "    return recurcombat_(*decks)\n",
    "\n",
    "def recurcombat_(deck1, deck2):\n",
    "    deckses = set()\n",
    "    while deck1 and deck2:\n",
    "        if (deck1, deck2) in deckses:\n",
    "            return deck1, None  # Player 1 wins\n",
    "        deckses.add((deck1, deck2))\n",
    "        d1, d2 = combatround(deck1, deck2)\n",
    "        if d1 and d2:\n",
    "            deck1, deck2 = d1, d2\n",
    "        elif d1:  # Player 1 wins round\n",
    "            deck1, deck2 = accum1(deck1, deck2)\n",
    "        else:     # Player 2 wins round\n",
    "            deck1, deck2 = accum2(deck1, deck2)\n",
    "    return deck1, deck2\n",
    "\n",
    "def combatround(deck1, deck2):\n",
    "    (x1, *d1), (x2, *d2) = deck1, deck2\n",
    "    if x1 <= len(d1) and x2 <= len(d2):\n",
    "        return recurcombat_(tuple(d1[:x1]), tuple(d2[:x2]))\n",
    "    if x1 > x2:\n",
    "        return accum1(deck1, deck2)\n",
    "    return accum2(deck1, deck2)\n",
    "\n",
    "def accum1(x, y):\n",
    "    return (*x[1:], x[0], y[0]), y[1:]\n",
    "\n",
    "def accum2(x, y):\n",
    "    return x[1:], (*y[1:], y[0], x[0])\n",
    "\n",
    "deck1, deck2 = recurcombat(decks)\n",
    "assert 35836 == score(deck1 or deck2)"
   ]
  }
 ],
 "metadata": {
  "kernelspec": {
   "display_name": "Python 3",
   "language": "python",
   "name": "python3"
  },
  "language_info": {
   "codemirror_mode": {
    "name": "ipython",
    "version": 3
   },
   "file_extension": ".py",
   "mimetype": "text/x-python",
   "name": "python",
   "nbconvert_exporter": "python",
   "pygments_lexer": "ipython3",
   "version": "3.8.5"
  }
 },
 "nbformat": 4,
 "nbformat_minor": 4
}
