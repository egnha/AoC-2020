{
 "cells": [
  {
   "cell_type": "markdown",
   "metadata": {},
   "source": [
    "# [Day 11](https://adventofcode.com/2020/day/11): Seating System"
   ]
  },
  {
   "cell_type": "code",
   "execution_count": 1,
   "metadata": {},
   "outputs": [],
   "source": [
    "import numpy as np\n",
    "\n",
    "with open(\"../data/11.txt\", \"r\") as f:\n",
    "    lines = [l.strip() for l in f.readlines()]\n",
    "\n",
    "seatingplan = np.array(list(map(list, lines)))"
   ]
  },
  {
   "cell_type": "markdown",
   "metadata": {},
   "source": [
    "## Part 1"
   ]
  },
  {
   "cell_type": "code",
   "execution_count": 2,
   "metadata": {},
   "outputs": [],
   "source": [
    "def reseating(seats, crowdedness, crowded):\n",
    "    \"\"\"Reseat according to a measure of crowdedness.\"\"\"\n",
    "    def reseat(occupied):\n",
    "        c = crowdedness(occupied)\n",
    "        return (~occupied & seats & (c == 0)) | (occupied & (c < crowded))\n",
    "    return reseat\n",
    "\n",
    "def adjacent(occupied):\n",
    "    \"\"\"Count occupied seats that are adjacent.\"\"\"\n",
    "    return np.sum([np.roll(occupied, s, axis=(0, 1)) for s in shifts], axis=0)\n",
    "\n",
    "shifts = ((-1, -1), (-1, 0), (-1, 1),\n",
    "          ( 0, -1),          ( 0, 1),\n",
    "          ( 1, -1), ( 1, 0), ( 1, 1))\n",
    "\n",
    "def fixedpoint(f, x):\n",
    "    \"\"\"Fixed point of a pure, type-preserving array transformation.\"\"\"\n",
    "    while ((fx := f(x)) != x).any():\n",
    "        x = fx\n",
    "    return fx\n",
    "\n",
    "seats = np.pad(seatingplan == \"L\", 1)\n",
    "reseat = reseating(seats, crowdedness=adjacent, crowded=4)\n",
    "assert 2344 == np.sum(fixedpoint(reseat, seats))"
   ]
  },
  {
   "cell_type": "markdown",
   "metadata": {},
   "source": [
    "## Part 2"
   ]
  },
  {
   "cell_type": "code",
   "execution_count": 3,
   "metadata": {},
   "outputs": [],
   "source": [
    "import numba as nb\n",
    "import numpy.ma as ma\n",
    "\n",
    "UNOCCUPIED = -np.inf\n",
    "\n",
    "def visible(seats):\n",
    "    \"\"\"Count occupied seats that are in direct line of sight.\"\"\"\n",
    "    def lineofsight(occupied):\n",
    "        occ = occupied.astype(float)\n",
    "        occ[seats & ~occupied] = UNOCCUPIED\n",
    "        return np.sum([illum(occ) & seats for illum in illuminate], axis=0)\n",
    "    return lineofsight\n",
    "\n",
    "def illumdown(x):\n",
    "    \"\"\"Rays of downward illumination.\"\"\"\n",
    "    return shift(reluadd.accumulate(x, axis=0) > 0)\n",
    "\n",
    "@nb.vectorize([nb.float64(nb.float64, nb.float64)], nopython=True)\n",
    "def reluadd(x, y):\n",
    "    return np.maximum(0, x + y)\n",
    "\n",
    "def shift(x):\n",
    "    return np.pad(x[:-1], ((1, 0), (0, 0)))\n",
    "\n",
    "def illumup(x):\n",
    "    \"\"\"Rays of upward illumination.\"\"\"\n",
    "    return illumdown(x[::-1])[::-1]\n",
    "\n",
    "def illumdiag(diags, illum):\n",
    "    \"\"\"Rays of downward diagonal illumination.\"\"\"\n",
    "    def illuminate(x):\n",
    "        d = diags(x)\n",
    "        return illum(d.data)[~d.mask].reshape(x.shape)\n",
    "    return illuminate\n",
    "\n",
    "def diagonals(shear):\n",
    "    def diags(x):\n",
    "        \"\"\"Diagonals as columns.\"\"\"\n",
    "        m, n = x.shape\n",
    "        i, j = np.indices((m, n))\n",
    "        j = j + shear(m)[:, np.newaxis]\n",
    "        diag = np.full((m, m + n - 1), UNOCCUPIED)\n",
    "        mask = np.ones(diag.shape, dtype=bool)\n",
    "        diag[i, j] = x\n",
    "        mask[i, j] = False\n",
    "        return ma.array(diag, mask=mask)\n",
    "    return diags\n",
    "\n",
    "diags = diagonals(lambda m: np.arange(m - 1, -1, -1))\n",
    "antidiags = diagonals(np.arange)\n",
    "\n",
    "illuminate = (\n",
    "    illumdown,                        # S\n",
    "    illumup,                          # N\n",
    "    lambda x: illumdown(x.T).T,       # E\n",
    "    lambda x: illumup(x.T).T,         # W\n",
    "    illumdiag(diags, illumdown),      # SE\n",
    "    illumdiag(diags, illumup),        # NW\n",
    "    illumdiag(antidiags, illumdown),  # SW\n",
    "    illumdiag(antidiags, illumup))    # NE\n",
    "\n",
    "seats2 = seats[1:-1, 1:-1]\n",
    "reseat2 = reseating(seats2, crowdedness=visible(seats2), crowded=5)\n",
    "assert 2076 == np.sum(fixedpoint(reseat2, seats2))"
   ]
  }
 ],
 "metadata": {
  "kernelspec": {
   "display_name": "Python 3",
   "language": "python",
   "name": "python3"
  },
  "language_info": {
   "codemirror_mode": {
    "name": "ipython",
    "version": 3
   },
   "file_extension": ".py",
   "mimetype": "text/x-python",
   "name": "python",
   "nbconvert_exporter": "python",
   "pygments_lexer": "ipython3",
   "version": "3.8.5"
  }
 },
 "nbformat": 4,
 "nbformat_minor": 4
}
