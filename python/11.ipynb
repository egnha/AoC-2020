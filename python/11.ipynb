{
 "cells": [
  {
   "cell_type": "markdown",
   "metadata": {},
   "source": [
    "# [Day 11](https://adventofcode.com/2020/day/11): Seating System"
   ]
  },
  {
   "cell_type": "code",
   "execution_count": 1,
   "metadata": {},
   "outputs": [],
   "source": [
    "import numpy as np\n",
    "\n",
    "with open(\"../data/11.txt\", \"r\") as f:\n",
    "    lines = [l.strip() for l in f.readlines()]\n",
    "\n",
    "seatingplan = np.array(list(map(list, lines)))"
   ]
  },
  {
   "cell_type": "markdown",
   "metadata": {},
   "source": [
    "## Part 1"
   ]
  },
  {
   "cell_type": "code",
   "execution_count": 2,
   "metadata": {},
   "outputs": [],
   "source": [
    "from itertools import product\n",
    "\n",
    "shifts = np.array(list(product((-1, 0, 1), repeat=2)))\n",
    "\n",
    "def occupy(seats):\n",
    "    def density(occupied):\n",
    "        nbhs = (np.roll(occupied, s, axis=(0, 1)) for s in shifts)\n",
    "        return np.sum(tuple(nbhs), axis=0)\n",
    "    def move(occupied):\n",
    "        d = density(occupied)\n",
    "        return (seats & (d == 0)) | (occupied & (d <= 4))\n",
    "    return move\n",
    "\n",
    "def fixedpoint(f, x):\n",
    "    while ((fx := f(x)) != x).any():\n",
    "        x = fx\n",
    "    return x\n",
    "\n",
    "seats = np.pad(seatingplan == \"L\", 1)\n",
    "assert np.sum(fixedpoint(occupy(seats), seats)) == 2344"
   ]
  },
  {
   "cell_type": "markdown",
   "metadata": {},
   "source": [
    "## Part 2"
   ]
  },
  {
   "cell_type": "code",
   "execution_count": 3,
   "metadata": {},
   "outputs": [],
   "source": [
    "import numpy.ma as ma\n",
    "from itertools import accumulate\n",
    "\n",
    "UNOCCUPIED = -np.inf\n",
    "\n",
    "def ray(x):\n",
    "    r = accumulate(x, reluadd, initial=0)\n",
    "    r = np.array(list(r)[1:], dtype=bool)\n",
    "    r = r & shift(r)\n",
    "    return r | shift(r) | shift(x == 1)\n",
    "\n",
    "def reluadd(x, y):\n",
    "    return np.maximum(0, x + y)\n",
    "\n",
    "def shift(x):\n",
    "    return np.pad(x[:-1], ((1, 0), (0, 0)))\n",
    "\n",
    "def rayrev(x):\n",
    "    return ray(x[::-1])[::-1]\n",
    "\n",
    "def illumdiag(diags, illum):\n",
    "    def illuminate(x):\n",
    "        d = diags(x)\n",
    "        r = illum(d.data)\n",
    "        return r[~d.mask].reshape(x.shape)\n",
    "    return illuminate\n",
    "\n",
    "def diagonalizer(shear):\n",
    "    def diagonals(x):\n",
    "        m, n = x.shape\n",
    "        i, j = np.indices(x.shape)\n",
    "        j = j + shear(m)[:, np.newaxis]\n",
    "        diag = np.full((m, m + n - 1), UNOCCUPIED)\n",
    "        mask = np.ones(diag.shape, dtype=bool)\n",
    "        diag[i, j] = x\n",
    "        mask[i, j] = False\n",
    "        return ma.array(diag, mask=mask)\n",
    "    return diagonals\n",
    "\n",
    "diags = diagonalizer(lambda m: np.arange(m - 1, -1, -1))\n",
    "antidiags = diagonalizer(np.arange)\n",
    "\n",
    "illuminate = (\n",
    "    ray,                           # S\n",
    "    rayrev,                        # N\n",
    "    lambda x: ray(x.T).T,          # E\n",
    "    lambda x: rayrev(x.T).T,       # W\n",
    "    illumdiag(diags, ray),         # SE\n",
    "    illumdiag(diags, rayrev),      # NW\n",
    "    illumdiag(antidiags, ray),     # SW\n",
    "    illumdiag(antidiags, rayrev))  # NE\n",
    "\n",
    "def occupy2(seats):\n",
    "    def visible(occupied):\n",
    "        occ = occupied.astype(float)\n",
    "        occ[seats & ~occupied] = UNOCCUPIED\n",
    "        lineofsight = (illum(occ) for illum in illuminate)\n",
    "        return np.sum(tuple(lineofsight), axis=0)\n",
    "    def move(occupied):\n",
    "        v = occupied + visible(occupied)\n",
    "        return (seats & (v == 0)) | (occupied & (v <= 5))\n",
    "    return move\n",
    "\n",
    "seats2 = seats[1:-1, 1:-1]\n",
    "assert 2076 == np.sum(fixedpoint(occupy2(seats2), seats2))"
   ]
  }
 ],
 "metadata": {
  "kernelspec": {
   "display_name": "Python 3",
   "language": "python",
   "name": "python3"
  },
  "language_info": {
   "codemirror_mode": {
    "name": "ipython",
    "version": 3
   },
   "file_extension": ".py",
   "mimetype": "text/x-python",
   "name": "python",
   "nbconvert_exporter": "python",
   "pygments_lexer": "ipython3",
   "version": "3.8.5"
  }
 },
 "nbformat": 4,
 "nbformat_minor": 4
}
