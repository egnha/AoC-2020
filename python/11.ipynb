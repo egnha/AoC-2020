{
 "cells": [
  {
   "cell_type": "markdown",
   "metadata": {},
   "source": [
    "# [Day 11](https://adventofcode.com/2020/day/11): Seating System"
   ]
  },
  {
   "cell_type": "code",
   "execution_count": 1,
   "metadata": {},
   "outputs": [],
   "source": [
    "import numpy as np\n",
    "\n",
    "with open(\"../data/11.txt\", \"r\") as f:\n",
    "    seatingplan = np.array([list(l.strip()) for l in f.readlines()])"
   ]
  },
  {
   "cell_type": "markdown",
   "metadata": {},
   "source": [
    "## Part 1"
   ]
  },
  {
   "cell_type": "code",
   "execution_count": 2,
   "metadata": {},
   "outputs": [],
   "source": [
    "from itertools import product\n",
    "\n",
    "def reseating(seats, density, threshold):\n",
    "    \"\"\"Reseat according to occupation density.\"\"\"\n",
    "    def reseat(occupied):\n",
    "        d = density(occupied)\n",
    "        return (seats & (d == 0)) | (occupied & (d <= threshold))\n",
    "    return reseat\n",
    "\n",
    "def neighbors(occupied):\n",
    "    \"\"\"Count the number of occupied neighboring seats.\"\"\"\n",
    "    occupied = np.pad(occupied, 1)\n",
    "    return np.sum([occupied[s] for s in shifts], axis=0)\n",
    "\n",
    "shifts = list(product([np.s_[:-2], np.s_[1:-1], np.s_[2:]], repeat=2))\n",
    "\n",
    "def fixedpoint(f, x):\n",
    "    while ((fx := f(x)) != x).any():\n",
    "        x = fx\n",
    "    return fx\n",
    "\n",
    "seats = seatingplan == \"L\"\n",
    "reseat = reseating(seats, density=neighbors, threshold=4)\n",
    "assert 2344 == np.sum(fixedpoint(reseat, seats))"
   ]
  },
  {
   "cell_type": "markdown",
   "metadata": {},
   "source": [
    "## Part 2"
   ]
  },
  {
   "cell_type": "markdown",
   "metadata": {},
   "source": [
    "Array reversal/tranpose as functional transformations:"
   ]
  },
  {
   "cell_type": "code",
   "execution_count": 3,
   "metadata": {},
   "outputs": [],
   "source": [
    "def rev(f):\n",
    "    return lambda x: f(x[::-1])[::-1]\n",
    "\n",
    "def transpose(f):\n",
    "    return lambda x: f(x.T).T"
   ]
  },
  {
   "cell_type": "markdown",
   "metadata": {},
   "source": [
    "For Part 2, occupation density is measured by seat visibility."
   ]
  },
  {
   "cell_type": "code",
   "execution_count": 4,
   "metadata": {},
   "outputs": [],
   "source": [
    "import numpy.ma as ma\n",
    "import numba as nb\n",
    "\n",
    "UNOCCUPIED = -np.inf\n",
    "\n",
    "def visible(seats):\n",
    "    \"\"\"Count occupied seats that are in direct line of sight.\"\"\"\n",
    "    def lineofsight(occupied):\n",
    "        occ = occupied.astype(float)\n",
    "        occ[seats & ~occupied] = UNOCCUPIED\n",
    "        return np.sum([vis(occ) & seats for vis in visibility], axis=0)\n",
    "    return lineofsight\n",
    "\n",
    "def visibleitself(occ):\n",
    "    return occ == 1  # occupied seat is visible to itself\n",
    "\n",
    "def visiblebelow(occ):\n",
    "    \"\"\"Is a point visible from below an occupied seat?\"\"\"\n",
    "    occ = np.pad(occ[:-1], ((1, 0), (0, 0)))\n",
    "    return reluadd.accumulate(occ).astype(bool)\n",
    "\n",
    "@nb.vectorize([nb.float64(nb.float64, nb.float64)], nopython=True)\n",
    "def reluadd(x, y):\n",
    "    return np.maximum(0, x + y)\n",
    "\n",
    "visibleabove = rev(visiblebelow)\n",
    "\n",
    "def visiblealong(axis):\n",
    "    def visibility(vis):\n",
    "        \"\"\"Is a point visible from below an occupied seat on axis?\"\"\"\n",
    "        def visible(occ):\n",
    "            d = axis(occ)\n",
    "            return vis(d.data)[~d.mask].reshape(occ.shape)\n",
    "        return visible\n",
    "    return visibility\n",
    "\n",
    "def antidiagonals(x):\n",
    "    \"\"\"Antidiagonals as (unmasked) columns.\"\"\"\n",
    "    m, n = x.shape\n",
    "    i, j = np.indices((m, n))\n",
    "    j = j + np.arange(m)[:, np.newaxis]\n",
    "    diag = np.full((m, m + n - 1), UNOCCUPIED)\n",
    "    diag[i, j] = x\n",
    "    mask = np.ones(diag.shape, dtype=bool)\n",
    "    mask[i, j] = False\n",
    "    return ma.array(diag, mask=mask)\n",
    "\n",
    "diagonally = visiblealong(rev(antidiagonals))\n",
    "antidiagonally = visiblealong(antidiagonals)\n",
    "\n",
    "visibility = (visibleitself,\n",
    "              visiblebelow,\n",
    "              visibleabove,\n",
    "              transpose(visiblebelow),  # right\n",
    "              transpose(visibleabove),  # left\n",
    "              diagonally(visiblebelow),\n",
    "              diagonally(visibleabove),\n",
    "              antidiagonally(visiblebelow),\n",
    "              antidiagonally(visibleabove))\n",
    "\n",
    "reseat2 = reseating(seats, density=visible(seats), threshold=5)\n",
    "assert 2076 == np.sum(fixedpoint(reseat2, seats))"
   ]
  }
 ],
 "metadata": {
  "kernelspec": {
   "display_name": "Python 3",
   "language": "python",
   "name": "python3"
  },
  "language_info": {
   "codemirror_mode": {
    "name": "ipython",
    "version": 3
   },
   "file_extension": ".py",
   "mimetype": "text/x-python",
   "name": "python",
   "nbconvert_exporter": "python",
   "pygments_lexer": "ipython3",
   "version": "3.8.5"
  }
 },
 "nbformat": 4,
 "nbformat_minor": 4
}
