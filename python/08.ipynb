{
 "cells": [
  {
   "cell_type": "markdown",
   "metadata": {},
   "source": [
    "# [Day 8](https://adventofcode.com/2020/day/8): Handheld Halting"
   ]
  },
  {
   "cell_type": "code",
   "execution_count": 1,
   "metadata": {},
   "outputs": [],
   "source": [
    "with open(\"../data/08.txt\", \"r\") as f:\n",
    "    lines = [l.strip() for l in f.readlines()]"
   ]
  },
  {
   "cell_type": "markdown",
   "metadata": {},
   "source": [
    "## Part 1"
   ]
  },
  {
   "cell_type": "code",
   "execution_count": 2,
   "metadata": {},
   "outputs": [],
   "source": [
    "ops = {\"jmp\": lambda j: lambda i, acc: (i + j, acc),\n",
    "       \"acc\": lambda a: lambda i, acc: (i + 1, acc + a),\n",
    "       \"nop\": lambda _: lambda i, acc: (i + 1, acc)}\n",
    "\n",
    "inst = [ops[k](int(v)) for l in lines for k, v in [l.split()]]\n",
    "\n",
    "i, acc, visited = 0, 0, {0}\n",
    "while True:\n",
    "    i_, acc_ = inst[i](i, acc)\n",
    "    if i_ in visited:\n",
    "        break\n",
    "    visited.add(i_)\n",
    "    i, acc = i_, acc_\n",
    "\n",
    "assert 1915 == acc"
   ]
  },
  {
   "cell_type": "markdown",
   "metadata": {},
   "source": [
    "## Part 2"
   ]
  },
  {
   "cell_type": "code",
   "execution_count": 3,
   "metadata": {},
   "outputs": [],
   "source": [
    "def run(inst, n=len(lines)):\n",
    "    i, acc, visited = 0, 0, {0}\n",
    "    while True:\n",
    "        i_, acc_ = inst[i](i, acc)\n",
    "        if i_ == n:\n",
    "            return acc_\n",
    "        if i_ in visited:\n",
    "            return None\n",
    "        visited.add(i_)\n",
    "        i, acc = i_, acc_\n",
    "\n",
    "for i, l in enumerate(lines):\n",
    "    if l[:3] != \"jmp\" or l[4:] == \"+1\":\n",
    "        continue\n",
    "    op = inst[i]\n",
    "    inst[i] = ops[\"nop\"](0)\n",
    "    acc = run(inst)\n",
    "    if acc is not None:\n",
    "        break\n",
    "    inst[i] = op\n",
    "\n",
    "assert 944 == acc "
   ]
  }
 ],
 "metadata": {
  "kernelspec": {
   "display_name": "Python 3",
   "language": "python",
   "name": "python3"
  },
  "language_info": {
   "codemirror_mode": {
    "name": "ipython",
    "version": 3
   },
   "file_extension": ".py",
   "mimetype": "text/x-python",
   "name": "python",
   "nbconvert_exporter": "python",
   "pygments_lexer": "ipython3",
   "version": "3.8.5"
  }
 },
 "nbformat": 4,
 "nbformat_minor": 4
}
