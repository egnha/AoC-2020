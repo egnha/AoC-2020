{
 "cells": [
  {
   "cell_type": "markdown",
   "metadata": {},
   "source": [
    "# [Day 2](https://adventofcode.com/2020/day/2): Password Philosophy"
   ]
  },
  {
   "cell_type": "code",
   "execution_count": 1,
   "metadata": {},
   "outputs": [],
   "source": [
    "with open(\"../data/02.txt\", \"r\") as f:\n",
    "    lines = f.readlines()\n",
    "\n",
    "def parse(line):\n",
    "    line = line.strip().split()\n",
    "    lwr, upr = map(int, line[0].split('-'))\n",
    "    return lwr, upr, line[1][:-1], line[2]\n",
    "\n",
    "entries = list(map(parse, lines))"
   ]
  },
  {
   "cell_type": "markdown",
   "metadata": {},
   "source": [
    "## Part 1"
   ]
  },
  {
   "cell_type": "code",
   "execution_count": 2,
   "metadata": {},
   "outputs": [],
   "source": [
    "len_ = lambda xs: sum(1 for _ in xs)\n",
    "\n",
    "def valid(entry):\n",
    "    lwr, upr, ltr, pw = entry\n",
    "    return lwr <= len_(c for c in pw if c == ltr) <= upr\n",
    "\n",
    "assert len_(filter(valid, entries)) == 410"
   ]
  },
  {
   "cell_type": "markdown",
   "metadata": {},
   "source": [
    "## Part 2"
   ]
  },
  {
   "cell_type": "code",
   "execution_count": 3,
   "metadata": {},
   "outputs": [],
   "source": [
    "def valid_new(entry):\n",
    "    lwr, upr, ltr, pw = entry\n",
    "    return (pw[lwr - 1] == ltr) ^ (pw[upr - 1] == ltr)\n",
    "\n",
    "assert len_(filter(valid_new, entries)) == 694"
   ]
  }
 ],
 "metadata": {
  "kernelspec": {
   "display_name": "Python 3",
   "language": "python",
   "name": "python3"
  },
  "language_info": {
   "codemirror_mode": {
    "name": "ipython",
    "version": 3
   },
   "file_extension": ".py",
   "mimetype": "text/x-python",
   "name": "python",
   "nbconvert_exporter": "python",
   "pygments_lexer": "ipython3",
   "version": "3.8.5"
  }
 },
 "nbformat": 4,
 "nbformat_minor": 4
}
