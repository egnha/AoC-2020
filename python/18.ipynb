{
 "cells": [
  {
   "cell_type": "markdown",
   "metadata": {},
   "source": [
    "# [Day 18](https://adventofcode.com/2020/day/18): Operation Order"
   ]
  },
  {
   "cell_type": "code",
   "execution_count": 1,
   "metadata": {},
   "outputs": [],
   "source": [
    "import re\n",
    "\n",
    "with open(\"../data/18.txt\", \"r\") as f:\n",
    "    exprs = f.read().strip().replace(\"\\n\", \"|\").replace(\"+\", \"/\")\n",
    "    exprs = re.sub(r\"(\\d+)\", r\"Weird(\\1)\", exprs)"
   ]
  },
  {
   "cell_type": "markdown",
   "metadata": {},
   "source": [
    "## Part 1"
   ]
  },
  {
   "cell_type": "code",
   "execution_count": 2,
   "metadata": {},
   "outputs": [],
   "source": [
    "class Weird(int):\n",
    "    \"\"\"Integers with weird arithmetic syntax.\"\"\"\n",
    "    \n",
    "    add = lambda self, other: Weird(super().__add__(other))\n",
    "    mul = lambda self, other: Weird(super().__mul__(other))\n",
    "    \n",
    "    __or__      = add  # `|`\n",
    "    __truediv__ = add  # `/`\n",
    "    __add__     = mul  # `+`\n",
    "    __mul__     = mul  # `*`\n",
    "\n",
    "assert 5374004645253 == eval(exprs)"
   ]
  },
  {
   "cell_type": "markdown",
   "metadata": {},
   "source": [
    "## Part 2"
   ]
  },
  {
   "cell_type": "code",
   "execution_count": 3,
   "metadata": {},
   "outputs": [],
   "source": [
    "assert 88782789402798 == eval(exprs.replace(\"*\", \"+\"))"
   ]
  }
 ],
 "metadata": {
  "kernelspec": {
   "display_name": "Python 3",
   "language": "python",
   "name": "python3"
  },
  "language_info": {
   "codemirror_mode": {
    "name": "ipython",
    "version": 3
   },
   "file_extension": ".py",
   "mimetype": "text/x-python",
   "name": "python",
   "nbconvert_exporter": "python",
   "pygments_lexer": "ipython3",
   "version": "3.8.5"
  }
 },
 "nbformat": 4,
 "nbformat_minor": 4
}
