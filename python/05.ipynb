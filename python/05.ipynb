{
 "cells": [
  {
   "cell_type": "markdown",
   "metadata": {},
   "source": [
    "# [Day 5](https://adventofcode.com/2020/day/5): Binary Boarding"
   ]
  },
  {
   "cell_type": "code",
   "execution_count": 1,
   "metadata": {},
   "outputs": [],
   "source": [
    "with open(\"../data/05.txt\", \"r\") as f:\n",
    "    boarding_passes = [l.strip() for l in f.readlines()]\n",
    "\n",
    "from re import sub\n",
    "\n",
    "as_int = lambda bp: int(sub(\"B|R\", \"1\", sub(\"F|L\", \"0\", bp)), 2)\n",
    "row = lambda bp: as_int(bp[:7])\n",
    "col = lambda bp: as_int(bp[7:])\n",
    "seat_id = lambda bp: row(bp) * 8 + col(bp)"
   ]
  },
  {
   "cell_type": "markdown",
   "metadata": {},
   "source": [
    "## Part 1"
   ]
  },
  {
   "cell_type": "code",
   "execution_count": 2,
   "metadata": {},
   "outputs": [],
   "source": [
    "ids = list(map(seat_id, boarding_passes))\n",
    "assert 974 == max(ids)"
   ]
  },
  {
   "cell_type": "markdown",
   "metadata": {},
   "source": [
    "## Part 2"
   ]
  },
  {
   "cell_type": "code",
   "execution_count": 3,
   "metadata": {},
   "outputs": [],
   "source": [
    "pairs = lambda xs: zip(xs[:-1], xs[1:])\n",
    "assert 646 == next(i for i, j in pairs(sorted(ids)) if j - i == 2) + 1"
   ]
  }
 ],
 "metadata": {
  "kernelspec": {
   "display_name": "Python 3",
   "language": "python",
   "name": "python3"
  },
  "language_info": {
   "codemirror_mode": {
    "name": "ipython",
    "version": 3
   },
   "file_extension": ".py",
   "mimetype": "text/x-python",
   "name": "python",
   "nbconvert_exporter": "python",
   "pygments_lexer": "ipython3",
   "version": "3.8.5"
  }
 },
 "nbformat": 4,
 "nbformat_minor": 4
}
