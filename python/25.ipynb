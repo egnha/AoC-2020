{
 "cells": [
  {
   "cell_type": "markdown",
   "metadata": {},
   "source": [
    "# [Day 25](https://adventofcode.com/2020/day/25): Combo Breaker"
   ]
  },
  {
   "cell_type": "code",
   "execution_count": 1,
   "metadata": {},
   "outputs": [],
   "source": [
    "with open(\"../data/25.txt\", \"r\") as f:\n",
    "    card, door = map(int, f.readlines())  # Public keys"
   ]
  },
  {
   "cell_type": "markdown",
   "metadata": {},
   "source": [
    "## Part 1"
   ]
  },
  {
   "cell_type": "markdown",
   "metadata": {},
   "source": [
    "Modulo the prime $20201227$, the encryption key $e$ for the public keys $c$ (card) and $d$ (door) satisfies the congruence $e\\equiv c^n\\equiv d^m$, where $c\\equiv 7^m$, $d\\equiv 7^n$. The problem is to find either of the modular logarithms, $m$ or $n$."
   ]
  },
  {
   "cell_type": "code",
   "execution_count": 2,
   "metadata": {},
   "outputs": [],
   "source": [
    "from functools import reduce\n",
    "from itertools import count\n",
    "from math import floor, log\n",
    "\n",
    "def encryptionkey(card, door, subject, p):\n",
    "    return modpow(card, modlog(door, subject, p), p)\n",
    "\n",
    "def modpow(x, n, p):\n",
    "    \"\"\"Modular power: x**n % p.\"\"\"\n",
    "    return reduce(lambda y, _: (y*x) % p, range(n), 1)\n",
    "\n",
    "def modlog(x, base, p):\n",
    "    \"\"\"Modular logarithm.\"\"\"\n",
    "    n = floor(log(x, base))\n",
    "    y = base**n % p\n",
    "    return next(i for i in count(n + 1) if (y := (base*y) % p) == x)\n",
    "\n",
    "assert 17673381 == encryptionkey(card, door, subject=7, p=20201227)"
   ]
  },
  {
   "cell_type": "markdown",
   "metadata": {},
   "source": [
    "## Part 2\n",
    "\n",
    "Journey's end. Thank you, [Eric Wastl](http://was.tl)!"
   ]
  }
 ],
 "metadata": {
  "kernelspec": {
   "display_name": "Python 3",
   "language": "python",
   "name": "python3"
  },
  "language_info": {
   "codemirror_mode": {
    "name": "ipython",
    "version": 3
   },
   "file_extension": ".py",
   "mimetype": "text/x-python",
   "name": "python",
   "nbconvert_exporter": "python",
   "pygments_lexer": "ipython3",
   "version": "3.8.5"
  }
 },
 "nbformat": 4,
 "nbformat_minor": 4
}
