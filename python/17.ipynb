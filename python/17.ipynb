{
 "cells": [
  {
   "cell_type": "markdown",
   "metadata": {},
   "source": [
    "# [Day 17](https://adventofcode.com/2020/day/17)"
   ]
  },
  {
   "cell_type": "code",
   "execution_count": 1,
   "metadata": {},
   "outputs": [],
   "source": [
    "import numpy as np\n",
    "from itertools import product\n",
    "from functools import reduce\n",
    "\n",
    "with open(\"../data/17.txt\", \"r\") as f:\n",
    "    lines = [l.strip() for l in f.readlines()]\n",
    "\n",
    "cubes = np.array(list(map(list, lines))) == \"#\"\n",
    "\n",
    "def boot(dim):\n",
    "    axes = tuple(range(dim))\n",
    "    shifts = tuple(product((-1, 0, 1), repeat=dim))\n",
    "    excise = tuple(np.s_[1:-1] for _ in range(dim))\n",
    "    @inflate\n",
    "    def density(cubes):\n",
    "        trans = [np.roll(cubes, s, axis=axes) for s in shifts]\n",
    "        return np.sum(trans, axis=0)[excise]\n",
    "    @inflate\n",
    "    def cycle(cubes):\n",
    "        d = density(cubes)\n",
    "        return (d == 3) | (cubes & (d == 4))\n",
    "    return cycle\n",
    "\n",
    "inflate = lambda f: lambda cubes: f(np.pad(cubes, (1, 1)))\n",
    "\n",
    "def simulate(cubes, dim, n=6):\n",
    "    cycle = boot(dim)\n",
    "    dims = *(1 for _ in range(dim - 2)), *cubes.shape\n",
    "    return reduce(lambda c, _: cycle(c), range(n), cubes.reshape(dims))"
   ]
  },
  {
   "cell_type": "markdown",
   "metadata": {},
   "source": [
    "## Part 1"
   ]
  },
  {
   "cell_type": "code",
   "execution_count": 2,
   "metadata": {},
   "outputs": [],
   "source": [
    "assert 426 == np.sum(simulate(cubes, dim=3))"
   ]
  },
  {
   "cell_type": "markdown",
   "metadata": {},
   "source": [
    "## Part 2"
   ]
  },
  {
   "cell_type": "code",
   "execution_count": 3,
   "metadata": {},
   "outputs": [],
   "source": [
    "assert 1892 == np.sum(simulate(cubes, dim=4))"
   ]
  }
 ],
 "metadata": {
  "kernelspec": {
   "display_name": "Python 3",
   "language": "python",
   "name": "python3"
  },
  "language_info": {
   "codemirror_mode": {
    "name": "ipython",
    "version": 3
   },
   "file_extension": ".py",
   "mimetype": "text/x-python",
   "name": "python",
   "nbconvert_exporter": "python",
   "pygments_lexer": "ipython3",
   "version": "3.8.5"
  }
 },
 "nbformat": 4,
 "nbformat_minor": 4
}
