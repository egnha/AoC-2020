{
 "cells": [
  {
   "cell_type": "markdown",
   "metadata": {},
   "source": [
    "# [Day 17](https://adventofcode.com/2020/day/17)"
   ]
  },
  {
   "cell_type": "code",
   "execution_count": 1,
   "metadata": {},
   "outputs": [],
   "source": [
    "import numpy as np\n",
    "\n",
    "with open(\"../data/17.txt\", \"r\") as f:\n",
    "    lines = [l.strip() for l in f.readlines()]\n",
    "\n",
    "cubes = np.array(list(map(list, lines))) == \"#\""
   ]
  },
  {
   "cell_type": "markdown",
   "metadata": {},
   "source": [
    "## Part 1"
   ]
  },
  {
   "cell_type": "code",
   "execution_count": 2,
   "metadata": {},
   "outputs": [],
   "source": [
    "from itertools import product\n",
    "from functools import reduce\n",
    "\n",
    "def boot(dim):\n",
    "    windows = list(product(shifts, repeat=dim))\n",
    "    @inflate\n",
    "    def density(cubes):\n",
    "        return np.sum([cubes[w] for w in windows], axis=0)\n",
    "    @inflate\n",
    "    def cycle(cubes):\n",
    "        d = density(cubes)\n",
    "        return (d == 3) | (cubes & (d == 4))\n",
    "    return cycle\n",
    "\n",
    "shifts = np.s_[:-2], np.s_[1:-1], np.s_[2:]\n",
    "inflate = lambda f: lambda x: f(np.pad(x, (1, 1)))\n",
    "\n",
    "def embed(cubes, dim):\n",
    "    dims = *(1 for _ in range(dim - 2)), *cubes.shape\n",
    "    return cubes.reshape(dims)\n",
    "\n",
    "def simulate(cubes, dim, n=6):\n",
    "    cycle = boot(dim)\n",
    "    return reduce(lambda c, _: cycle(c), range(n), embed(cubes, dim))\n",
    "\n",
    "assert 426 == np.sum(simulate(cubes, dim=3))"
   ]
  },
  {
   "cell_type": "markdown",
   "metadata": {},
   "source": [
    "## Part 2"
   ]
  },
  {
   "cell_type": "code",
   "execution_count": 3,
   "metadata": {},
   "outputs": [],
   "source": [
    "assert 1892 == np.sum(simulate(cubes, dim=4))"
   ]
  }
 ],
 "metadata": {
  "kernelspec": {
   "display_name": "Python 3",
   "language": "python",
   "name": "python3"
  },
  "language_info": {
   "codemirror_mode": {
    "name": "ipython",
    "version": 3
   },
   "file_extension": ".py",
   "mimetype": "text/x-python",
   "name": "python",
   "nbconvert_exporter": "python",
   "pygments_lexer": "ipython3",
   "version": "3.8.5"
  }
 },
 "nbformat": 4,
 "nbformat_minor": 4
}
