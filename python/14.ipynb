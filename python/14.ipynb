{
 "cells": [
  {
   "cell_type": "markdown",
   "metadata": {},
   "source": [
    "# [Day 14](https://adventofcode.com/2020/day/14): Docking Data"
   ]
  },
  {
   "cell_type": "code",
   "execution_count": 1,
   "metadata": {},
   "outputs": [],
   "source": [
    "with open(\"../data/14.txt\", \"r\") as f:\n",
    "    code = f.read()"
   ]
  },
  {
   "cell_type": "markdown",
   "metadata": {},
   "source": [
    "## Part 1"
   ]
  },
  {
   "cell_type": "code",
   "execution_count": 2,
   "metadata": {},
   "outputs": [],
   "source": [
    "import re\n",
    "\n",
    "class Memory(dict):\n",
    "    \"\"\"Memory as a dictionary of address-value pairs.\"\"\"\n",
    "    \n",
    "    @classmethod\n",
    "    def write(cls, registers, code):\n",
    "        \"\"\"Write to memory by running code.\"\"\"\n",
    "        cls.registers = registers\n",
    "        mem = cls()  # Must be named \"mem\"\n",
    "        exec(cls.transform(code))\n",
    "        return mem\n",
    "    \n",
    "    def registers(self, addr, val):\n",
    "        \"\"\"Generate address-value pairs to write; assign dynamically.\"\"\"\n",
    "    \n",
    "    @staticmethod\n",
    "    def transform(code):\n",
    "        \"\"\"Enable nonstandard mask assignment.\"\"\"\n",
    "        return re.sub(r\"mask = (.*)\\n\", r\"mem.mask = '\\1'\\n\", code)\n",
    "    \n",
    "    def setmask(self, val):\n",
    "        self._mask = self.asint(\"1\" if x == \"X\" else \"0\" for x in val)\n",
    "        self._places = [i for i, x in enumerate(reversed(val)) if x == \"X\"]\n",
    "        self._overwrite = self.asint(\"0\" if x == \"X\" else x for x in val)\n",
    "    \n",
    "    mask = property(fset=setmask)\n",
    "    \n",
    "    @staticmethod\n",
    "    def asint(x):\n",
    "        return int(\"\".join(x), 2)\n",
    "\n",
    "    def __setitem__(self, addr, val):\n",
    "        \"\"\"Write values to memory.\"\"\"\n",
    "        for a, v in self.registers(addr, val):\n",
    "            super().__setitem__(a, v)\n",
    "        \n",
    "    def __iter__(self):\n",
    "        return iter(super().values())\n",
    "\n",
    "def registers(self, addr, val):\n",
    "    \"\"\"Apply bitmask to memory values.\"\"\"\n",
    "    yield (addr, (val & self._mask) | self._overwrite)\n",
    "\n",
    "assert 7817357407588 == sum(Memory.write(registers, code))"
   ]
  },
  {
   "cell_type": "markdown",
   "metadata": {},
   "source": [
    "## Part 2"
   ]
  },
  {
   "cell_type": "code",
   "execution_count": 3,
   "metadata": {},
   "outputs": [],
   "source": [
    "from itertools import product\n",
    "from operator import lshift\n",
    "\n",
    "def registers2(self, addr, val):\n",
    "    \"\"\"Decode memory addresses.\"\"\"\n",
    "    addrs = decode(addr, self._mask, self._places, self._overwrite)\n",
    "    yield from ((a, val) for a in addrs)\n",
    "\n",
    "def decode(addr, mask, places, overwrite):\n",
    "    addr = (addr | overwrite) & (BITS36 ^ mask)\n",
    "    for bits in product((0, 1), repeat=len(places)):\n",
    "        yield addr | sum(map(lshift, bits, places))\n",
    "\n",
    "BITS36 = 2**36 - 1\n",
    "\n",
    "assert 4335927555692 == sum(Memory.write(registers2, code))"
   ]
  }
 ],
 "metadata": {
  "kernelspec": {
   "display_name": "Python 3",
   "language": "python",
   "name": "python3"
  },
  "language_info": {
   "codemirror_mode": {
    "name": "ipython",
    "version": 3
   },
   "file_extension": ".py",
   "mimetype": "text/x-python",
   "name": "python",
   "nbconvert_exporter": "python",
   "pygments_lexer": "ipython3",
   "version": "3.8.5"
  }
 },
 "nbformat": 4,
 "nbformat_minor": 4
}
