{
 "cells": [
  {
   "cell_type": "markdown",
   "metadata": {},
   "source": [
    "# [Day 14](https://adventofcode.com/2020/day/14): Docking Data"
   ]
  },
  {
   "cell_type": "code",
   "execution_count": 1,
   "metadata": {},
   "outputs": [],
   "source": [
    "import re\n",
    "\n",
    "with open(\"../data/14.txt\", \"r\") as f:\n",
    "    code = re.sub(r\"mask = (.*)\\n\", r\"mem.mask = '\\1'\\n\", f.read())"
   ]
  },
  {
   "cell_type": "markdown",
   "metadata": {},
   "source": [
    "## Part 1"
   ]
  },
  {
   "cell_type": "code",
   "execution_count": 2,
   "metadata": {},
   "outputs": [],
   "source": [
    "class Memory(dict):\n",
    "    \"\"\"Memory as a dictionary of address-value pairs.\"\"\"\n",
    "    \n",
    "    def parsemask(self, val):\n",
    "        self._mask = asint(\"1\" if x == \"X\" else \"0\" for x in val)\n",
    "        self._places = [i for i, x in enumerate(reversed(val)) if x == \"X\"]\n",
    "        self._overwrite = asint(\"0\" if x == \"X\" else x for x in val)\n",
    "    \n",
    "    mask = property(fset=parsemask)\n",
    "    \n",
    "    def registers(self, addr, val):\n",
    "        \"\"\"Generate address-value pairs to store.\"\"\"\n",
    "\n",
    "    def __setitem__(self, addr, val):\n",
    "        \"\"\"Store values in memory.\"\"\"\n",
    "        for a, v in self.registers(addr, val):\n",
    "            super().__setitem__(a, v)\n",
    "        \n",
    "    def __iter__(self):\n",
    "        return iter(super().values())\n",
    "\n",
    "def asint(x):\n",
    "    return int(\"\".join(x), 2)\n",
    "\n",
    "def memory(registers, code):\n",
    "    Memory.registers = registers\n",
    "    mem = Memory()  # Must be named \"mem\" because of code\n",
    "    exec(code)\n",
    "    return mem\n",
    "\n",
    "def registers(self, addr, val):\n",
    "     yield (addr, (val & self._mask) | self._overwrite)\n",
    "\n",
    "assert 7817357407588 == sum(memory(registers, code))"
   ]
  },
  {
   "cell_type": "markdown",
   "metadata": {},
   "source": [
    "## Part 2"
   ]
  },
  {
   "cell_type": "code",
   "execution_count": 3,
   "metadata": {},
   "outputs": [],
   "source": [
    "from itertools import product\n",
    "from operator import lshift\n",
    "\n",
    "def registers2(self, addr, val):\n",
    "    addrs = addresses(addr, self._mask, self._places, self._overwrite)\n",
    "    yield from ((a, val) for a in addrs)\n",
    "\n",
    "def addresses(addr, mask, places, overwrite):\n",
    "    val = (addr | overwrite) & (BITS36 ^ mask)\n",
    "    for bits in product((0, 1), repeat=len(places)):\n",
    "        yield val | sum(map(lshift, bits, places))\n",
    "\n",
    "BITS36 = 2**36 - 1\n",
    "\n",
    "assert 4335927555692 == sum(memory(registers2, code))"
   ]
  }
 ],
 "metadata": {
  "kernelspec": {
   "display_name": "Python 3",
   "language": "python",
   "name": "python3"
  },
  "language_info": {
   "codemirror_mode": {
    "name": "ipython",
    "version": 3
   },
   "file_extension": ".py",
   "mimetype": "text/x-python",
   "name": "python",
   "nbconvert_exporter": "python",
   "pygments_lexer": "ipython3",
   "version": "3.8.5"
  }
 },
 "nbformat": 4,
 "nbformat_minor": 4
}
