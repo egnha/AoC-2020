{
 "cells": [
  {
   "cell_type": "markdown",
   "metadata": {},
   "source": [
    "# [Day 10](https://adventofcode.com/2020/day/10): Adapter Array"
   ]
  },
  {
   "cell_type": "code",
   "execution_count": 1,
   "metadata": {},
   "outputs": [],
   "source": [
    "with open(\"../data/10.txt\", \"r\") as f:\n",
    "    lines = [int(l.strip()) for l in f.readlines()]"
   ]
  },
  {
   "cell_type": "markdown",
   "metadata": {},
   "source": [
    "## Part 1"
   ]
  },
  {
   "cell_type": "code",
   "execution_count": 2,
   "metadata": {},
   "outputs": [],
   "source": [
    "import numpy as np\n",
    "\n",
    "jolts = sorted(lines)\n",
    "jolts = np.array([0, *jolts, jolts[-1] + 3])\n",
    "diffs = jolts[1:] - jolts[:-1]\n",
    "\n",
    "assert 2368 == np.sum(diffs == 1) * np.sum(diffs == 3)"
   ]
  },
  {
   "cell_type": "markdown",
   "metadata": {},
   "source": [
    "## Part 2"
   ]
  },
  {
   "cell_type": "code",
   "execution_count": 3,
   "metadata": {},
   "outputs": [],
   "source": [
    "from functools import lru_cache\n",
    "\n",
    "N = {(n := len(jolts) - 1): 0,\n",
    "     (n - 1): 1,\n",
    "     (n - 2): 1 if jolts[-1] - jolts[-3] > 3 else 2}\n",
    "\n",
    "@lru_cache()\n",
    "def npaths(i):\n",
    "    if i in N:\n",
    "        return N[i]\n",
    "    return sum(npaths(j) for j in range(i + 1, i + 4) if jolts[j] - jolts[i] <= 3)\n",
    "\n",
    "assert 1727094849536 == npaths(0)"
   ]
  }
 ],
 "metadata": {
  "kernelspec": {
   "display_name": "Python 3",
   "language": "python",
   "name": "python3"
  },
  "language_info": {
   "codemirror_mode": {
    "name": "ipython",
    "version": 3
   },
   "file_extension": ".py",
   "mimetype": "text/x-python",
   "name": "python",
   "nbconvert_exporter": "python",
   "pygments_lexer": "ipython3",
   "version": "3.8.5"
  }
 },
 "nbformat": 4,
 "nbformat_minor": 4
}
