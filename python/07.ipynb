{
 "cells": [
  {
   "cell_type": "markdown",
   "metadata": {},
   "source": [
    "# [Day 7](https://adventofcode.com/2020/day/7): Handy Haversacks"
   ]
  },
  {
   "cell_type": "code",
   "execution_count": 1,
   "metadata": {},
   "outputs": [],
   "source": [
    "import numpy as np\n",
    "import re\n",
    "\n",
    "rule = re.compile(r\"(.*) bags contain (.*)\\.\")\n",
    "bags = re.compile(r\"(\\d+) (.*?) bag\")\n",
    "\n",
    "with open(\"../data/07.txt\", \"r\") as f:\n",
    "    rules = rule.findall(f.read())\n",
    "    enum = {bag: i for i, (bag, _) in enumerate(rules)}\n",
    "    contents = np.zeros((len(enum), len(enum)), dtype=int)\n",
    "    for bag, items in rules:\n",
    "        for n, item in bags.findall(items):\n",
    "            contents[enum[bag]][enum[item]] = int(n)"
   ]
  },
  {
   "cell_type": "markdown",
   "metadata": {},
   "source": [
    "## Part 1"
   ]
  },
  {
   "cell_type": "markdown",
   "metadata": {},
   "source": [
    "### Solution by recursion"
   ]
  },
  {
   "cell_type": "code",
   "execution_count": 2,
   "metadata": {},
   "outputs": [],
   "source": [
    "import operator as op\n",
    "\n",
    "arithmetic = {np.dtype(bool): (op.or_, op.and_), # Part 1\n",
    "              np.dtype(int):  (op.add, op.mul)}  # Part 2\n",
    "\n",
    "def expander(b):\n",
    "    add, mul = arithmetic[b.dtype]\n",
    "    sigma = lambda ys: np.sum(list(ys), axis=0, dtype=b.dtype)\n",
    "    def expand(y):\n",
    "        if (y == 0).all():\n",
    "            return y\n",
    "        return add(y, sigma(mul(a, expand(z)) for a, z in zip(y, b) if a))\n",
    "    return expand\n",
    "\n",
    "shinygold = enum[\"shiny gold\"]\n",
    "contains = contents.T.astype(bool)\n",
    "assert 222 == np.sum(expander(contains)(contains[shinygold]))"
   ]
  },
  {
   "cell_type": "markdown",
   "metadata": {},
   "source": [
    "### Solution by iteration (linear algebra)\n",
    "\n",
    "Given a *nilpotent*, square $(0,1)$-matrix $B$, solve the equation $X=B+BX$. The solution is given by the geometric series $X=(1-B)^{-1}B=B+B^2+B^3+\\cdots$, which is finite because $B$ is nilpotent. This also yields the solution over the boolean semiring, for which \"$1-B$\" would be undefined."
   ]
  },
  {
   "cell_type": "code",
   "execution_count": 3,
   "metadata": {},
   "outputs": [],
   "source": [
    "from itertools import accumulate, repeat, takewhile\n",
    "from scipy.sparse import csr_matrix\n",
    "\n",
    "nonzero = csr_matrix.count_nonzero\n",
    "\n",
    "def geomseries(x):\n",
    "    \"\"\"Geometric series starting from x, assuming x is nilpotent (and sparse).\"\"\"\n",
    "    x = csr_matrix(x)\n",
    "    pows = accumulate(repeat(x), op.matmul, initial=x)\n",
    "    return np.sum(list(takewhile(nonzero, pows)), axis=0)\n",
    "\n",
    "assert 222 == np.sum(geomseries(contains)[shinygold])"
   ]
  },
  {
   "cell_type": "markdown",
   "metadata": {},
   "source": [
    "NB: Without sparsity the geometric series would be much slower to compute."
   ]
  },
  {
   "cell_type": "markdown",
   "metadata": {},
   "source": [
    "## Part 2"
   ]
  },
  {
   "cell_type": "markdown",
   "metadata": {},
   "source": [
    "### Solution by recursion"
   ]
  },
  {
   "cell_type": "code",
   "execution_count": 4,
   "metadata": {},
   "outputs": [],
   "source": [
    "assert 13264 == np.sum(expander(contents)(contents[shinygold]))"
   ]
  },
  {
   "cell_type": "markdown",
   "metadata": {},
   "source": [
    "### Solution by iteration"
   ]
  },
  {
   "cell_type": "code",
   "execution_count": 5,
   "metadata": {},
   "outputs": [],
   "source": [
    "assert 13264 == np.sum(geomseries(contents)[shinygold])"
   ]
  }
 ],
 "metadata": {
  "kernelspec": {
   "display_name": "Python 3",
   "language": "python",
   "name": "python3"
  },
  "language_info": {
   "codemirror_mode": {
    "name": "ipython",
    "version": 3
   },
   "file_extension": ".py",
   "mimetype": "text/x-python",
   "name": "python",
   "nbconvert_exporter": "python",
   "pygments_lexer": "ipython3",
   "version": "3.8.5"
  }
 },
 "nbformat": 4,
 "nbformat_minor": 4
}
