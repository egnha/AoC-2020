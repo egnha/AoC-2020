{
 "cells": [
  {
   "cell_type": "markdown",
   "metadata": {},
   "source": [
    "# [Day 7](https://adventofcode.com/2020/day/7): Handy Haversacks"
   ]
  },
  {
   "cell_type": "code",
   "execution_count": 1,
   "metadata": {},
   "outputs": [],
   "source": [
    "import numpy as np\n",
    "import re\n",
    "\n",
    "line = re.compile(r\"(.*) bags contain (.*)\\.\")\n",
    "bags = re.compile(r\"(\\d+) (.*?) bag\")\n",
    "\n",
    "with open(\"../data/07.txt\", \"r\") as f:\n",
    "    lines = re.findall(line, f.read())\n",
    "    \n",
    "enum = {item: i for i, (item, _) in enumerate(lines)}\n",
    "\n",
    "contents = np.zeros((len(enum), len(enum)), dtype=int)\n",
    "for bag, items in lines:\n",
    "    for n, item in re.findall(bags, items):\n",
    "        contents[enum[bag]][enum[item]] = int(n)"
   ]
  },
  {
   "cell_type": "markdown",
   "metadata": {},
   "source": [
    "## Part 1"
   ]
  },
  {
   "cell_type": "code",
   "execution_count": 2,
   "metadata": {},
   "outputs": [],
   "source": [
    "import operator as op\n",
    "\n",
    "arithmetic = {np.dtype(bool): (op.or_, op.and_),  # Part 1\n",
    "              np.dtype(int): (op.add, op.mul)}    # Part 2\n",
    "\n",
    "def expander(b):\n",
    "    add, mul = arithmetic[b.dtype]\n",
    "    sigma = lambda ys: np.sum(ys, axis=0, dtype=b.dtype)\n",
    "    def expand(y):\n",
    "        if (y == 0).all():\n",
    "            return y\n",
    "        return add(y, sigma([mul(a, expand(z)) for a, z in zip(y, b) if a]))\n",
    "    return expand\n",
    "\n",
    "shinygold = enum[\"shiny gold\"]\n",
    "contains = contents.T.astype(bool)\n",
    "\n",
    "assert 222 == np.sum(expander(contains)(contains[shinygold]))"
   ]
  },
  {
   "cell_type": "markdown",
   "metadata": {},
   "source": [
    "## Part 2"
   ]
  },
  {
   "cell_type": "code",
   "execution_count": 3,
   "metadata": {},
   "outputs": [],
   "source": [
    "assert 13264 == np.sum(expander(contents)(contents[shinygold]))"
   ]
  }
 ],
 "metadata": {
  "kernelspec": {
   "display_name": "Python 3",
   "language": "python",
   "name": "python3"
  },
  "language_info": {
   "codemirror_mode": {
    "name": "ipython",
    "version": 3
   },
   "file_extension": ".py",
   "mimetype": "text/x-python",
   "name": "python",
   "nbconvert_exporter": "python",
   "pygments_lexer": "ipython3",
   "version": "3.8.5"
  }
 },
 "nbformat": 4,
 "nbformat_minor": 4
}
