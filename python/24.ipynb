{
 "cells": [
  {
   "cell_type": "markdown",
   "metadata": {},
   "source": [
    "# [Day 24](https://adventofcode.com/2020/day/24): Lobby Layout"
   ]
  },
  {
   "cell_type": "code",
   "execution_count": 1,
   "metadata": {},
   "outputs": [],
   "source": [
    "import re\n",
    "\n",
    "pat = re.compile(r\"e|ne|nw|w|sw|se\")\n",
    "\n",
    "with open(\"../data/24.txt\", \"r\") as f:\n",
    "    paths = (pat.findall(l.strip()) for l in f.readlines())"
   ]
  },
  {
   "cell_type": "markdown",
   "metadata": {},
   "source": [
    "## Part 1"
   ]
  },
  {
   "cell_type": "code",
   "execution_count": 2,
   "metadata": {},
   "outputs": [],
   "source": [
    "from collections import Counter\n",
    "\n",
    "moves = dict(e=1+0J, ne=1J, nw=-1+1J, w=-1+0J, sw=-1J, se=1-1J)\n",
    "visits = Counter(sum(map(moves.__getitem__, p)) for p in paths)\n",
    "tiles = {t: v % 2 == 1 for t, v in visits.items()}\n",
    "\n",
    "assert 351 == sum(tiles.values())"
   ]
  },
  {
   "cell_type": "markdown",
   "metadata": {},
   "source": [
    "## Part 2"
   ]
  },
  {
   "cell_type": "code",
   "execution_count": 3,
   "metadata": {},
   "outputs": [],
   "source": [
    "dirs = list(moves.values())\n",
    "\n",
    "def paint(tiles):\n",
    "    def isblack(t, c):\n",
    "        n = c + sum(tiles.get(t + d, False) for d in dirs)\n",
    "        return n == 2 or c and n == 3\n",
    "    return isblack\n",
    "\n",
    "def expand(tiles):\n",
    "    for t in list(tiles):\n",
    "        for d in dirs:\n",
    "            tiles.setdefault(t + d, False)\n",
    "\n",
    "for _ in range(100):\n",
    "    expand(tiles)\n",
    "    isblack = paint(tiles)\n",
    "    tiles = {t: isblack(t, c) for t, c in tiles.items()}\n",
    "\n",
    "assert 3869 == sum(tiles.values())"
   ]
  }
 ],
 "metadata": {
  "kernelspec": {
   "display_name": "Python 3",
   "language": "python",
   "name": "python3"
  },
  "language_info": {
   "codemirror_mode": {
    "name": "ipython",
    "version": 3
   },
   "file_extension": ".py",
   "mimetype": "text/x-python",
   "name": "python",
   "nbconvert_exporter": "python",
   "pygments_lexer": "ipython3",
   "version": "3.8.5"
  }
 },
 "nbformat": 4,
 "nbformat_minor": 4
}
