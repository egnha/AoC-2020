{
 "cells": [
  {
   "cell_type": "markdown",
   "metadata": {},
   "source": [
    "# [Day 23](https://adventofcode.com/2020/day/23): Crab Cups"
   ]
  },
  {
   "cell_type": "code",
   "execution_count": 1,
   "metadata": {},
   "outputs": [],
   "source": [
    "input = \"853192647\""
   ]
  },
  {
   "cell_type": "markdown",
   "metadata": {},
   "source": [
    "## Part 1"
   ]
  },
  {
   "cell_type": "code",
   "execution_count": 2,
   "metadata": {},
   "outputs": [],
   "source": [
    "import numpy as np\n",
    "from numba import jit\n",
    "from itertools import accumulate\n",
    "\n",
    "@jit(nopython=True)\n",
    "def move(cups, n):\n",
    "    \"\"\"Move cups n times.\"\"\"\n",
    "    N = len(cups)\n",
    "    s, s0 = succ(cups), cups[0]\n",
    "    for _ in range(n):\n",
    "        s1 = s[s0]; s2 = s[s1]; s3 = s[s2]; s4 = s[s3]\n",
    "        for t in np.arange(s0 - 1, s0 - 5, -1) % N:\n",
    "            if (t != s1) and (t != s2) and (t != s3): break\n",
    "        s[s0], s[s3], s[t] = s[s3], s[t], s[s0]\n",
    "        s, s0 = s, s4\n",
    "    return s\n",
    "\n",
    "@jit(nopython=True)\n",
    "def succ(cups):\n",
    "    \"\"\"Successor of cup value i is succ(cups)[i].\"\"\"\n",
    "    s = np.empty(len(cups), dtype=np.int64)\n",
    "    s[cups] = np.roll(cups, -1)\n",
    "    return s\n",
    "\n",
    "def label(s):\n",
    "    \"\"\"Cup values clockwise from cup value 1.\"\"\"\n",
    "    cupvalue = lambda x, _: s[x - 1] + 1\n",
    "    cups = accumulate(range(len(s) - 2), cupvalue, initial=s[0] + 1)\n",
    "    return \"\".join(map(str, cups))\n",
    "\n",
    "cups = np.array(list(input), dtype=np.int64) - 1  # NumPy arrays a 0-indexed\n",
    "assert \"97624853\" == label(move(cups, 100))"
   ]
  },
  {
   "cell_type": "markdown",
   "metadata": {},
   "source": [
    "## Part 2"
   ]
  },
  {
   "cell_type": "code",
   "execution_count": 3,
   "metadata": {},
   "outputs": [
    {
     "name": "stdout",
     "output_type": "stream",
     "text": [
      "CPU times: user 3.54 s, sys: 14.8 ms, total: 3.56 s\n",
      "Wall time: 3.55 s\n"
     ]
    }
   ],
   "source": [
    "%%time\n",
    "cups2 = np.arange(1_000_000)\n",
    "cups2[:len(cups)] = cups\n",
    "cups2 = move(cups2, 10_000_000)\n",
    "assert 664642452305 == np.prod(cups2[[0, cups2[0]]] + 1)"
   ]
  }
 ],
 "metadata": {
  "kernelspec": {
   "display_name": "Python 3",
   "language": "python",
   "name": "python3"
  },
  "language_info": {
   "codemirror_mode": {
    "name": "ipython",
    "version": 3
   },
   "file_extension": ".py",
   "mimetype": "text/x-python",
   "name": "python",
   "nbconvert_exporter": "python",
   "pygments_lexer": "ipython3",
   "version": "3.8.5"
  }
 },
 "nbformat": 4,
 "nbformat_minor": 4
}
