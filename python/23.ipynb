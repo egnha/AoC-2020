{
 "cells": [
  {
   "cell_type": "markdown",
   "metadata": {},
   "source": [
    "# [Day 23](https://adventofcode.com/2020/day/23): Crab Cups"
   ]
  },
  {
   "cell_type": "code",
   "execution_count": 1,
   "metadata": {},
   "outputs": [],
   "source": [
    "input = \"853192647\""
   ]
  },
  {
   "cell_type": "markdown",
   "metadata": {},
   "source": [
    "## Part 1"
   ]
  },
  {
   "cell_type": "code",
   "execution_count": 2,
   "metadata": {},
   "outputs": [],
   "source": [
    "from itertools import accumulate\n",
    "from functools import reduce\n",
    "import numpy as np\n",
    "\n",
    "def mover(n):\n",
    "    def move(ss, _):\n",
    "        s, s0 = ss\n",
    "        s1 = s[s0]; s2 = s[s1]; s3 = s[s2]; s4 = s[s3]\n",
    "        for t in np.arange(s0 - 1, s0 - 5, -1) % n:\n",
    "            if (t != s1) and (t != s2) and (t != s3): break\n",
    "        s[[s0, s3, t]] = s[[s3, t, s0]]\n",
    "        return s, s4\n",
    "    return move\n",
    "\n",
    "def succ(cups):\n",
    "    \"\"\"Successor of cup value i is succ(cups)[i].\"\"\"\n",
    "    s = np.empty(len(cups), dtype=int)\n",
    "    s[cups] = np.roll(cups, -1)\n",
    "    return s\n",
    "\n",
    "def label(s):\n",
    "    \"\"\"Cup values clockwise from cup value 1.\"\"\"\n",
    "    cups = accumulate(range(len(s) - 2), lambda x, _: s[x - 1] + 1, initial=s[0] + 1)\n",
    "    return \"\".join(map(str, cups))\n",
    "\n",
    "cups = np.array(list(map(int, input))) - 1\n",
    "move = mover(len(cups))\n",
    "c, _ = reduce(move, range(100), (succ(cups), cups[0]))\n",
    "\n",
    "assert \"97624853\" == label(c)"
   ]
  },
  {
   "cell_type": "markdown",
   "metadata": {},
   "source": [
    "## Part 2"
   ]
  },
  {
   "cell_type": "code",
   "execution_count": 3,
   "metadata": {},
   "outputs": [],
   "source": [
    "n = 1_000_000\n",
    "\n",
    "cups2 = np.arange(n)\n",
    "cups2[:len(cups)] = cups\n",
    "cups2, _ = reduce(mover(n), range(10 * n), (succ(cups2), cups[0]))\n",
    "\n",
    "assert 664642452305 == (cups2[0] + 1) * (cups2[cups2[0]] + 1)"
   ]
  }
 ],
 "metadata": {
  "kernelspec": {
   "display_name": "Python 3",
   "language": "python",
   "name": "python3"
  },
  "language_info": {
   "codemirror_mode": {
    "name": "ipython",
    "version": 3
   },
   "file_extension": ".py",
   "mimetype": "text/x-python",
   "name": "python",
   "nbconvert_exporter": "python",
   "pygments_lexer": "ipython3",
   "version": "3.8.5"
  }
 },
 "nbformat": 4,
 "nbformat_minor": 4
}
