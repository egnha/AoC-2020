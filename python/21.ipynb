{
 "cells": [
  {
   "cell_type": "markdown",
   "metadata": {},
   "source": [
    "# [Day 21](https://adventofcode.com/2020/day/21): Allergen Assessment"
   ]
  },
  {
   "cell_type": "code",
   "execution_count": 1,
   "metadata": {},
   "outputs": [],
   "source": [
    "import re\n",
    "\n",
    "with open(\"../data/21.txt\", \"r\") as f:\n",
    "    foods = re.findall(r\"(.*) \\(contains (.*)\\)\", f.read())\n",
    "    foods = [(ing.split(), agn.split(\", \")) for ing, agn in foods]\n",
    "    inglists, agnlists = zip(*foods)"
   ]
  },
  {
   "cell_type": "markdown",
   "metadata": {},
   "source": [
    "## Part 1"
   ]
  },
  {
   "cell_type": "code",
   "execution_count": 2,
   "metadata": {},
   "outputs": [],
   "source": [
    "import numpy as np\n",
    "\n",
    "def danger(agnlists, inglists):\n",
    "    hasagn, _ = asmatrix(agnlists)\n",
    "    hasing, ings = asmatrix(inglists)\n",
    "    dangerous = section(maybedangerous(hasagn, hasing))\n",
    "    return hasing, ings, dangerous\n",
    "\n",
    "def asmatrix(xss):\n",
    "    xs = sorted(set.union(*map(set, xss)))\n",
    "    enum = {x: i for i, x in enumerate(xs)}\n",
    "    mx = np.zeros((len(xs), len(xss)), dtype=bool)\n",
    "    for j, _xs in enumerate(xss):\n",
    "        mx[[enum[x] for x in _xs], j] = True\n",
    "    return mx, np.array(xs)\n",
    "\n",
    "def maybedangerous(hasagn, hasing):\n",
    "    cnt = np.einsum(\"af,if->fai\", hasagn, hasing).sum(axis=0)\n",
    "    return cnt == cnt.max(axis=1, keepdims=True)\n",
    "\n",
    "def section(x):\n",
    "    s, sec = 0, np.empty((len(x), 2), dtype=int)\n",
    "    ind = np.einsum(\"ijk->jki\", np.indices(x.shape))\n",
    "    while len(x):\n",
    "        i = x.sum(axis=1) == 1\n",
    "        j = x[i].any(axis=0)\n",
    "        sec[s:(s := s + i.sum())] = ind[i][x[i]]\n",
    "        x, ind = x[~i][:, ~j], ind[~i][:, ~j]\n",
    "    return sec[:, 1][sec[:, 0].argsort()]\n",
    "\n",
    "hasing, ings, dangerous = danger(agnlists, inglists)\n",
    "assert 1882 == hasing.sum() - hasing[dangerous].sum()"
   ]
  },
  {
   "cell_type": "markdown",
   "metadata": {},
   "source": [
    "## Part 2"
   ]
  },
  {
   "cell_type": "code",
   "execution_count": 3,
   "metadata": {},
   "outputs": [],
   "source": [
    "canonicaldangerous = \",\".join(ings[dangerous])\n",
    "assert \"xgtj,ztdctgq,bdnrnx,cdvjp,jdggtft,mdbq,rmd,lgllb\" == canonicaldangerous"
   ]
  }
 ],
 "metadata": {
  "kernelspec": {
   "display_name": "Python 3",
   "language": "python",
   "name": "python3"
  },
  "language_info": {
   "codemirror_mode": {
    "name": "ipython",
    "version": 3
   },
   "file_extension": ".py",
   "mimetype": "text/x-python",
   "name": "python",
   "nbconvert_exporter": "python",
   "pygments_lexer": "ipython3",
   "version": "3.8.5"
  }
 },
 "nbformat": 4,
 "nbformat_minor": 4
}
