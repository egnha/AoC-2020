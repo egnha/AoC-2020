{
 "cells": [
  {
   "cell_type": "markdown",
   "metadata": {},
   "source": [
    "# [Day 16](https://adventofcode.com/2020/day/16): Ticket Translation"
   ]
  },
  {
   "cell_type": "code",
   "execution_count": 1,
   "metadata": {},
   "outputs": [],
   "source": [
    "with open(\"../data/16.txt\", \"r\") as f:\n",
    "    lines = [l.strip() for l in f.readlines()]\n",
    "    \n",
    "ranges, myticket, tickets = lines[:20], lines[22], lines[25:]"
   ]
  },
  {
   "cell_type": "markdown",
   "metadata": {},
   "source": [
    "## Part 1"
   ]
  },
  {
   "cell_type": "code",
   "execution_count": 2,
   "metadata": {},
   "outputs": [],
   "source": [
    "import numpy as np\n",
    "from itertools import chain\n",
    "import re\n",
    "\n",
    "def flatten(xss):\n",
    "    return np.fromiter(chain.from_iterable(xss), dtype=int)\n",
    "\n",
    "endpoints = flatten(re.findall(r\"(\\d+)-(\\d+)\", \"\".join(ranges)))\n",
    "a, b = endpoints.reshape(-1, 2).T\n",
    "\n",
    "nums = flatten(line.split(\",\") for line in tickets)\n",
    "nums = nums.reshape(-1, 1)\n",
    "\n",
    "invalid = ((nums < a) | (b < nums)).all(axis=1)\n",
    "assert 25788 == np.sum(nums[invalid])"
   ]
  },
  {
   "cell_type": "markdown",
   "metadata": {},
   "source": [
    "## Part 2"
   ]
  },
  {
   "cell_type": "code",
   "execution_count": 3,
   "metadata": {},
   "outputs": [],
   "source": [
    "fields = np.zeros(20, dtype=int)\n",
    "ticketno, rangeno = np.arange(20), np.arange(20)\n",
    "\n",
    "valid = ~invalid.reshape(len(tickets), len(ranges)).any(axis=1)\n",
    "nums = nums.reshape(len(tickets), len(ranges))\n",
    "nums = nums.T[:, valid, np.newaxis]\n",
    "inrange = (a <= nums) & (nums <= b)\n",
    "inrange = inrange.reshape(*inrange.shape[:-1], len(nums), 2)  # Two ranges per field\n",
    "inrange = inrange.any(axis=3).all(axis=1)\n",
    "\n",
    "while len(inrange):\n",
    "    i = np.sum(inrange, axis=1) == 1\n",
    "    j = np.any(inrange[i], axis=0)\n",
    "    fields[rangeno[j]] = ticketno[i]\n",
    "    inrange  = inrange[~i][:, ~j]\n",
    "    ticketno = ticketno[~i]\n",
    "    rangeno = rangeno[~j]\n",
    "\n",
    "myticket = np.array(myticket.split(\",\"), dtype=int)\n",
    "assert 3902565915559 == np.prod(myticket[fields[:6]])"
   ]
  }
 ],
 "metadata": {
  "kernelspec": {
   "display_name": "Python 3",
   "language": "python",
   "name": "python3"
  },
  "language_info": {
   "codemirror_mode": {
    "name": "ipython",
    "version": 3
   },
   "file_extension": ".py",
   "mimetype": "text/x-python",
   "name": "python",
   "nbconvert_exporter": "python",
   "pygments_lexer": "ipython3",
   "version": "3.8.5"
  }
 },
 "nbformat": 4,
 "nbformat_minor": 4
}
