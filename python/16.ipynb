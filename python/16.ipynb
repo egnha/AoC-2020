{
 "cells": [
  {
   "cell_type": "markdown",
   "metadata": {},
   "source": [
    "# [Day 16](https://adventofcode.com/2020/day/16): Ticket Translation"
   ]
  },
  {
   "cell_type": "code",
   "execution_count": 1,
   "metadata": {},
   "outputs": [],
   "source": [
    "import numpy as np\n",
    "import re\n",
    "\n",
    "with open(\"../data/16.txt\", \"r\") as f:\n",
    "    lines = [l.strip() for l in f.readlines()]\n",
    "\n",
    "ranges = re.findall(r\"(\\d+)-(\\d+)\", \"\".join(lines[:20]))\n",
    "lwr, upr = np.array(ranges, dtype=int).T.reshape(2, 20, 2)\n",
    "myticket = np.array(lines[22].split(\",\"), dtype=int)\n",
    "tickets = np.array([t.split(\",\") for t in lines[25:]], dtype=int)"
   ]
  },
  {
   "cell_type": "markdown",
   "metadata": {},
   "source": [
    "## Part 1"
   ]
  },
  {
   "cell_type": "code",
   "execution_count": 2,
   "metadata": {},
   "outputs": [],
   "source": [
    "nums = tickets.reshape(tickets.size, 1, 1)\n",
    "invalid = ((nums < lwr) | (upr < nums)).all(axis=(1, 2))\n",
    "assert 25788 == np.sum(nums[invalid])"
   ]
  },
  {
   "cell_type": "markdown",
   "metadata": {},
   "source": [
    "## Part 2"
   ]
  },
  {
   "cell_type": "code",
   "execution_count": 3,
   "metadata": {},
   "outputs": [],
   "source": [
    "def enumfields(tickets, lwr, upr):\n",
    "    infield = choice(maybefield(tickets, lwr, upr))\n",
    "    return infield.argsort()\n",
    "\n",
    "def maybefield(tickets, lwr, upr):\n",
    "    t = tickets.T[..., np.newaxis, np.newaxis]\n",
    "    return ((lwr <= t) & (t <= upr)).any(axis=-1).all(axis=1)\n",
    "\n",
    "# cf. Day 21\n",
    "def choice(x):\n",
    "    ch, i = np.empty((len(x), 2), dtype=int), 0\n",
    "    idx = np.einsum(\"ijk->jki\", np.indices(x.shape))\n",
    "    while len(x):\n",
    "        j, k, sing = singular(x)\n",
    "        ch[i:(i := i + k.sum())] = idx[sing]\n",
    "        x, idx = x[(_jk := np.ix_(~j, ~k))], idx[_jk]\n",
    "    return ch[:, 1][ch[:, 0].argsort()]\n",
    "\n",
    "def singular(x):\n",
    "    j = x.sum(axis=1) == 1\n",
    "    k = x[j].sum(axis=0) == 1\n",
    "    sing = np.zeros(x.shape, dtype=bool)\n",
    "    sing[jk] = x[(jk := np.ix_(j, k))]\n",
    "    return j, k, sing\n",
    "\n",
    "valid = ~invalid.reshape(tickets.shape).any(axis=1)\n",
    "departures = enumfields(tickets[valid], lwr, upr)[:6]\n",
    "assert 3902565915559 == np.prod(myticket[departures])"
   ]
  }
 ],
 "metadata": {
  "kernelspec": {
   "display_name": "Python 3",
   "language": "python",
   "name": "python3"
  },
  "language_info": {
   "codemirror_mode": {
    "name": "ipython",
    "version": 3
   },
   "file_extension": ".py",
   "mimetype": "text/x-python",
   "name": "python",
   "nbconvert_exporter": "python",
   "pygments_lexer": "ipython3",
   "version": "3.8.5"
  }
 },
 "nbformat": 4,
 "nbformat_minor": 4
}
