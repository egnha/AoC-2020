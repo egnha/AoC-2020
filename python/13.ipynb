{
 "cells": [
  {
   "cell_type": "markdown",
   "metadata": {},
   "source": [
    "# [Day 13](https://adventofcode.com/2020/day/13): Shuttle Search"
   ]
  },
  {
   "cell_type": "code",
   "execution_count": 1,
   "metadata": {},
   "outputs": [],
   "source": [
    "with open(\"../data/13.txt\", \"r\") as f:\n",
    "    t0, times = (l.strip() for l in f.readlines())\n",
    "    \n",
    "t0 = int(t0)\n",
    "times = times.split(\",\")\n",
    "times = [(o, int(p)) for o, p in enumerate(times) if p != \"x\"]\n",
    "offsets, periods = zip(*times)"
   ]
  },
  {
   "cell_type": "markdown",
   "metadata": {},
   "source": [
    "## Part 1"
   ]
  },
  {
   "cell_type": "code",
   "execution_count": 2,
   "metadata": {},
   "outputs": [],
   "source": [
    "wait, period = min(zip((p - (t0 % p) for p in periods), periods))\n",
    "assert 2092 == wait * period"
   ]
  },
  {
   "cell_type": "markdown",
   "metadata": {},
   "source": [
    "## Part 2"
   ]
  },
  {
   "cell_type": "markdown",
   "metadata": {},
   "source": [
    "The earliest timestamp ($t$) satisfies the system of congruences\n",
    "$$\n",
    "\\eqalign{\n",
    "t+T_0&\\equiv0\\pmod{P_0},\\cr\n",
    "t+T_1&\\equiv0\\pmod{P_1},\\cr\n",
    "&\\dots\\cr}\n",
    "$$\n",
    "where $T_n$, $P_n$ are the offsets and periods. The [Chinese Remainder Theorem](https://en.wikipedia.org/wiki/Chinese_remainder_theorem) yields a solution."
   ]
  },
  {
   "cell_type": "code",
   "execution_count": 3,
   "metadata": {},
   "outputs": [],
   "source": [
    "from sympy import gcd\n",
    "from sympy.ntheory.modular import crt\n",
    "from itertools import combinations\n",
    "\n",
    "# Verify that we can apply the Chinese Remainder Theorem\n",
    "for m, n in combinations(periods, 2):\n",
    "    assert gcd(m, n) == 1\n",
    "\n",
    "timestamp, _ = crt(periods, (-o for o in offsets))\n",
    "assert 702970661767766 == int(timestamp)"
   ]
  }
 ],
 "metadata": {
  "kernelspec": {
   "display_name": "Python 3",
   "language": "python",
   "name": "python3"
  },
  "language_info": {
   "codemirror_mode": {
    "name": "ipython",
    "version": 3
   },
   "file_extension": ".py",
   "mimetype": "text/x-python",
   "name": "python",
   "nbconvert_exporter": "python",
   "pygments_lexer": "ipython3",
   "version": "3.8.5"
  }
 },
 "nbformat": 4,
 "nbformat_minor": 4
}
