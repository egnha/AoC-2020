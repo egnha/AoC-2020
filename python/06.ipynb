{
 "cells": [
  {
   "cell_type": "markdown",
   "metadata": {},
   "source": [
    "# [Day 6](https://adventofcode.com/2020/day/6): Custom Customs"
   ]
  },
  {
   "cell_type": "code",
   "execution_count": 1,
   "metadata": {},
   "outputs": [],
   "source": [
    "with open(\"../data/06.txt\", \"r\") as f:\n",
    "    lines = f.readlines()\n",
    "\n",
    "# Copied from Day 4\n",
    "breaks = [i for i, l in enumerate(lines) if l == \"\\n\"]\n",
    "breaks = zip((-1, *breaks), (*breaks, len(lines)))\n",
    "groups = [\"\".join(lines[i+1:j]).split() for i, j in breaks]"
   ]
  },
  {
   "cell_type": "markdown",
   "metadata": {},
   "source": [
    "## Part 1"
   ]
  },
  {
   "cell_type": "code",
   "execution_count": 2,
   "metadata": {},
   "outputs": [],
   "source": [
    "from utils import ffmap\n",
    "\n",
    "anses = ffmap(set)(groups)\n",
    "yeses = lambda op: sum(len(op(*a)) for a in anses)\n",
    "assert 6161 == yeses(set.union)"
   ]
  },
  {
   "cell_type": "markdown",
   "metadata": {},
   "source": [
    "## Part 2"
   ]
  },
  {
   "cell_type": "code",
   "execution_count": 3,
   "metadata": {},
   "outputs": [],
   "source": [
    "assert 2971 == yeses(set.intersection)"
   ]
  }
 ],
 "metadata": {
  "kernelspec": {
   "display_name": "Python 3",
   "language": "python",
   "name": "python3"
  },
  "language_info": {
   "codemirror_mode": {
    "name": "ipython",
    "version": 3
   },
   "file_extension": ".py",
   "mimetype": "text/x-python",
   "name": "python",
   "nbconvert_exporter": "python",
   "pygments_lexer": "ipython3",
   "version": "3.8.5"
  }
 },
 "nbformat": 4,
 "nbformat_minor": 4
}
