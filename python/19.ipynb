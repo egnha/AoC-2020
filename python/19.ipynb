{
 "cells": [
  {
   "cell_type": "markdown",
   "metadata": {},
   "source": [
    "# [Day 19](https://adventofcode.com/2020/day/19): Monster Messages"
   ]
  },
  {
   "cell_type": "code",
   "execution_count": 1,
   "metadata": {},
   "outputs": [],
   "source": [
    "from itertools import takewhile\n",
    "\n",
    "with open(\"../data/19.txt\", \"r\") as f:\n",
    "    lines = (l.strip() for l in f.readlines())\n",
    "\n",
    "rules, messages = list(takewhile(bool, lines)), list(lines)\n",
    "rules = {n: [tuple(ns.split()) for ns in r.split(\" | \")]\n",
    "            for rule in rules for n, r in [rule.split(\": \")]}"
   ]
  },
  {
   "cell_type": "markdown",
   "metadata": {},
   "source": [
    "## Part 1"
   ]
  },
  {
   "cell_type": "code",
   "execution_count": 2,
   "metadata": {},
   "outputs": [],
   "source": [
    "from functools import lru_cache\n",
    "import re\n",
    "\n",
    "@lru_cache\n",
    "def regex(n):\n",
    "    \"\"\"Regex for rule n.\"\"\"\n",
    "    return \"|\".join(map(cat, rules[n]))\n",
    "\n",
    "@lru_cache\n",
    "def cat(rule):\n",
    "    if len(rule) == 1 and (char := rule[0][1]) in {\"a\", \"b\"}:\n",
    "        return char\n",
    "    return f\"({')('.join(map(regex, rule))})\"\n",
    "\n",
    "rule0 = re.compile(f\"{regex('0')}$\")\n",
    "\n",
    "assert 187 == sum(1 for m in messages if rule0.match(m))"
   ]
  },
  {
   "cell_type": "markdown",
   "metadata": {},
   "source": [
    "## Part 2"
   ]
  },
  {
   "cell_type": "markdown",
   "metadata": {},
   "source": [
    "The updated rules 8 and 11 are\n",
    "```\n",
    "8: 42 | 42 8\n",
    "11: 42 31 | 42 11 31\n",
    "```\n",
    "For my data, rule 0 is `8 11`. Consequently, the updated rule 0 is the infinite sum\n",
    "```\n",
    "0: 42 42 31 | ... | 42...42 31...31 | ...\n",
    "```\n",
    "where for each summand there are more `42`'s than `31`'s."
   ]
  },
  {
   "cell_type": "code",
   "execution_count": 3,
   "metadata": {},
   "outputs": [],
   "source": [
    "from itertools import accumulate, repeat\n",
    "\n",
    "def matchone(n):\n",
    "    rule = re.compile(regex(n))\n",
    "    def match(msg):\n",
    "        \"\"\"Match rule at the beginning of a message.\"\"\"\n",
    "        if (m := rule.match(msg)) is None:\n",
    "            return None, msg\n",
    "        _, i = m.span()\n",
    "        return m.group(), msg[i:]\n",
    "    return match\n",
    "\n",
    "def matchall(n):\n",
    "    firstmatch = matchone(n)\n",
    "    matchrule = lambda m, _: firstmatch(m[1])\n",
    "    def match(msg):\n",
    "        \"\"\"Match rule successively from the beginning of a message.\"\"\"\n",
    "        matches = enumerate(accumulate(repeat((\"\", msg)), matchrule))\n",
    "        return next((i, msg) for i, (m, msg) in matches if m is None)\n",
    "    return match\n",
    "\n",
    "match42 = matchall(\"42\")\n",
    "match31 = matchall(\"31\")\n",
    "\n",
    "def match0(msg):\n",
    "    \"\"\"Does a message match modified rule 0?\"\"\"\n",
    "    n42, rest = match42(msg)\n",
    "    n31, rest = match31(rest)\n",
    "    return 1 < n31 < n42 and not rest\n",
    "\n",
    "assert 392 == sum(1 for msg in messages if match0(msg))"
   ]
  }
 ],
 "metadata": {
  "kernelspec": {
   "display_name": "Python 3",
   "language": "python",
   "name": "python3"
  },
  "language_info": {
   "codemirror_mode": {
    "name": "ipython",
    "version": 3
   },
   "file_extension": ".py",
   "mimetype": "text/x-python",
   "name": "python",
   "nbconvert_exporter": "python",
   "pygments_lexer": "ipython3",
   "version": "3.8.5"
  }
 },
 "nbformat": 4,
 "nbformat_minor": 4
}
